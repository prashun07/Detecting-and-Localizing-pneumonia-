{
  "nbformat": 4,
  "nbformat_minor": 0,
  "metadata": {
    "colab": {
      "name": "VGG16Model.ipynb",
      "provenance": [],
      "collapsed_sections": [],
      "authorship_tag": "ABX9TyN+3Wt9BWdWKK2ljGhI01Y7",
      "include_colab_link": true
    },
    "kernelspec": {
      "name": "python3",
      "display_name": "Python 3"
    },
    "accelerator": "GPU",
    "widgets": {
      "application/vnd.jupyter.widget-state+json": {
        "5cecb208f24b4364b097579f60ff97dd": {
          "model_module": "@jupyter-widgets/controls",
          "model_name": "HBoxModel",
          "state": {
            "_view_name": "HBoxView",
            "_dom_classes": [],
            "_model_name": "HBoxModel",
            "_view_module": "@jupyter-widgets/controls",
            "_model_module_version": "1.5.0",
            "_view_count": null,
            "_view_module_version": "1.5.0",
            "box_style": "",
            "layout": "IPY_MODEL_c00fe49426614809b1a90d31502d0b9a",
            "_model_module": "@jupyter-widgets/controls",
            "children": [
              "IPY_MODEL_eeb875a7505c43eda1a8c3a0e878b8b7",
              "IPY_MODEL_bcba7a77592245658cd2d04b798bd90f"
            ]
          }
        },
        "c00fe49426614809b1a90d31502d0b9a": {
          "model_module": "@jupyter-widgets/base",
          "model_name": "LayoutModel",
          "state": {
            "_view_name": "LayoutView",
            "grid_template_rows": null,
            "right": null,
            "justify_content": null,
            "_view_module": "@jupyter-widgets/base",
            "overflow": null,
            "_model_module_version": "1.2.0",
            "_view_count": null,
            "flex_flow": null,
            "width": null,
            "min_width": null,
            "border": null,
            "align_items": null,
            "bottom": null,
            "_model_module": "@jupyter-widgets/base",
            "top": null,
            "grid_column": null,
            "overflow_y": null,
            "overflow_x": null,
            "grid_auto_flow": null,
            "grid_area": null,
            "grid_template_columns": null,
            "flex": null,
            "_model_name": "LayoutModel",
            "justify_items": null,
            "grid_row": null,
            "max_height": null,
            "align_content": null,
            "visibility": null,
            "align_self": null,
            "height": null,
            "min_height": null,
            "padding": null,
            "grid_auto_rows": null,
            "grid_gap": null,
            "max_width": null,
            "order": null,
            "_view_module_version": "1.2.0",
            "grid_template_areas": null,
            "object_position": null,
            "object_fit": null,
            "grid_auto_columns": null,
            "margin": null,
            "display": null,
            "left": null
          }
        },
        "eeb875a7505c43eda1a8c3a0e878b8b7": {
          "model_module": "@jupyter-widgets/controls",
          "model_name": "FloatProgressModel",
          "state": {
            "_view_name": "ProgressView",
            "style": "IPY_MODEL_a7fe48906532431086ae92305cacda52",
            "_dom_classes": [],
            "description": "100%",
            "_model_name": "FloatProgressModel",
            "bar_style": "success",
            "max": 553433881,
            "_view_module": "@jupyter-widgets/controls",
            "_model_module_version": "1.5.0",
            "value": 553433881,
            "_view_count": null,
            "_view_module_version": "1.5.0",
            "orientation": "horizontal",
            "min": 0,
            "description_tooltip": null,
            "_model_module": "@jupyter-widgets/controls",
            "layout": "IPY_MODEL_a50ffeff3e8445468d00e2336db73052"
          }
        },
        "bcba7a77592245658cd2d04b798bd90f": {
          "model_module": "@jupyter-widgets/controls",
          "model_name": "HTMLModel",
          "state": {
            "_view_name": "HTMLView",
            "style": "IPY_MODEL_7ac019345c484739b2657ef17e04b1a0",
            "_dom_classes": [],
            "description": "",
            "_model_name": "HTMLModel",
            "placeholder": "​",
            "_view_module": "@jupyter-widgets/controls",
            "_model_module_version": "1.5.0",
            "value": " 528M/528M [00:15&lt;00:00, 36.2MB/s]",
            "_view_count": null,
            "_view_module_version": "1.5.0",
            "description_tooltip": null,
            "_model_module": "@jupyter-widgets/controls",
            "layout": "IPY_MODEL_4ac284e18bf84a8b89ae34643a44161e"
          }
        },
        "a7fe48906532431086ae92305cacda52": {
          "model_module": "@jupyter-widgets/controls",
          "model_name": "ProgressStyleModel",
          "state": {
            "_view_name": "StyleView",
            "_model_name": "ProgressStyleModel",
            "description_width": "initial",
            "_view_module": "@jupyter-widgets/base",
            "_model_module_version": "1.5.0",
            "_view_count": null,
            "_view_module_version": "1.2.0",
            "bar_color": null,
            "_model_module": "@jupyter-widgets/controls"
          }
        },
        "a50ffeff3e8445468d00e2336db73052": {
          "model_module": "@jupyter-widgets/base",
          "model_name": "LayoutModel",
          "state": {
            "_view_name": "LayoutView",
            "grid_template_rows": null,
            "right": null,
            "justify_content": null,
            "_view_module": "@jupyter-widgets/base",
            "overflow": null,
            "_model_module_version": "1.2.0",
            "_view_count": null,
            "flex_flow": null,
            "width": null,
            "min_width": null,
            "border": null,
            "align_items": null,
            "bottom": null,
            "_model_module": "@jupyter-widgets/base",
            "top": null,
            "grid_column": null,
            "overflow_y": null,
            "overflow_x": null,
            "grid_auto_flow": null,
            "grid_area": null,
            "grid_template_columns": null,
            "flex": null,
            "_model_name": "LayoutModel",
            "justify_items": null,
            "grid_row": null,
            "max_height": null,
            "align_content": null,
            "visibility": null,
            "align_self": null,
            "height": null,
            "min_height": null,
            "padding": null,
            "grid_auto_rows": null,
            "grid_gap": null,
            "max_width": null,
            "order": null,
            "_view_module_version": "1.2.0",
            "grid_template_areas": null,
            "object_position": null,
            "object_fit": null,
            "grid_auto_columns": null,
            "margin": null,
            "display": null,
            "left": null
          }
        },
        "7ac019345c484739b2657ef17e04b1a0": {
          "model_module": "@jupyter-widgets/controls",
          "model_name": "DescriptionStyleModel",
          "state": {
            "_view_name": "StyleView",
            "_model_name": "DescriptionStyleModel",
            "description_width": "",
            "_view_module": "@jupyter-widgets/base",
            "_model_module_version": "1.5.0",
            "_view_count": null,
            "_view_module_version": "1.2.0",
            "_model_module": "@jupyter-widgets/controls"
          }
        },
        "4ac284e18bf84a8b89ae34643a44161e": {
          "model_module": "@jupyter-widgets/base",
          "model_name": "LayoutModel",
          "state": {
            "_view_name": "LayoutView",
            "grid_template_rows": null,
            "right": null,
            "justify_content": null,
            "_view_module": "@jupyter-widgets/base",
            "overflow": null,
            "_model_module_version": "1.2.0",
            "_view_count": null,
            "flex_flow": null,
            "width": null,
            "min_width": null,
            "border": null,
            "align_items": null,
            "bottom": null,
            "_model_module": "@jupyter-widgets/base",
            "top": null,
            "grid_column": null,
            "overflow_y": null,
            "overflow_x": null,
            "grid_auto_flow": null,
            "grid_area": null,
            "grid_template_columns": null,
            "flex": null,
            "_model_name": "LayoutModel",
            "justify_items": null,
            "grid_row": null,
            "max_height": null,
            "align_content": null,
            "visibility": null,
            "align_self": null,
            "height": null,
            "min_height": null,
            "padding": null,
            "grid_auto_rows": null,
            "grid_gap": null,
            "max_width": null,
            "order": null,
            "_view_module_version": "1.2.0",
            "grid_template_areas": null,
            "object_position": null,
            "object_fit": null,
            "grid_auto_columns": null,
            "margin": null,
            "display": null,
            "left": null
          }
        },
        "3799119dce0c416fb63a9fe34faebcd3": {
          "model_module": "@jupyter-widgets/controls",
          "model_name": "HBoxModel",
          "state": {
            "_view_name": "HBoxView",
            "_dom_classes": [],
            "_model_name": "HBoxModel",
            "_view_module": "@jupyter-widgets/controls",
            "_model_module_version": "1.5.0",
            "_view_count": null,
            "_view_module_version": "1.5.0",
            "box_style": "",
            "layout": "IPY_MODEL_b691d3211a204b22bee443f7a54aa4d0",
            "_model_module": "@jupyter-widgets/controls",
            "children": [
              "IPY_MODEL_c1e03cbbf574415982fae29de0fbaa34",
              "IPY_MODEL_e3fb93f1c8ed417db281fb47c39c548a"
            ]
          }
        },
        "b691d3211a204b22bee443f7a54aa4d0": {
          "model_module": "@jupyter-widgets/base",
          "model_name": "LayoutModel",
          "state": {
            "_view_name": "LayoutView",
            "grid_template_rows": null,
            "right": null,
            "justify_content": null,
            "_view_module": "@jupyter-widgets/base",
            "overflow": null,
            "_model_module_version": "1.2.0",
            "_view_count": null,
            "flex_flow": null,
            "width": null,
            "min_width": null,
            "border": null,
            "align_items": null,
            "bottom": null,
            "_model_module": "@jupyter-widgets/base",
            "top": null,
            "grid_column": null,
            "overflow_y": null,
            "overflow_x": null,
            "grid_auto_flow": null,
            "grid_area": null,
            "grid_template_columns": null,
            "flex": null,
            "_model_name": "LayoutModel",
            "justify_items": null,
            "grid_row": null,
            "max_height": null,
            "align_content": null,
            "visibility": null,
            "align_self": null,
            "height": null,
            "min_height": null,
            "padding": null,
            "grid_auto_rows": null,
            "grid_gap": null,
            "max_width": null,
            "order": null,
            "_view_module_version": "1.2.0",
            "grid_template_areas": null,
            "object_position": null,
            "object_fit": null,
            "grid_auto_columns": null,
            "margin": null,
            "display": null,
            "left": null
          }
        },
        "c1e03cbbf574415982fae29de0fbaa34": {
          "model_module": "@jupyter-widgets/controls",
          "model_name": "FloatProgressModel",
          "state": {
            "_view_name": "ProgressView",
            "style": "IPY_MODEL_d9f5e978f96e4fff9710078e9950103b",
            "_dom_classes": [],
            "description": "100%",
            "_model_name": "FloatProgressModel",
            "bar_style": "success",
            "max": 30,
            "_view_module": "@jupyter-widgets/controls",
            "_model_module_version": "1.5.0",
            "value": 30,
            "_view_count": null,
            "_view_module_version": "1.5.0",
            "orientation": "horizontal",
            "min": 0,
            "description_tooltip": null,
            "_model_module": "@jupyter-widgets/controls",
            "layout": "IPY_MODEL_1b3c997005f6498ab69960d0f45f59a5"
          }
        },
        "e3fb93f1c8ed417db281fb47c39c548a": {
          "model_module": "@jupyter-widgets/controls",
          "model_name": "HTMLModel",
          "state": {
            "_view_name": "HTMLView",
            "style": "IPY_MODEL_40ada78123494792815b41dc1220cac3",
            "_dom_classes": [],
            "description": "",
            "_model_name": "HTMLModel",
            "placeholder": "​",
            "_view_module": "@jupyter-widgets/controls",
            "_model_module_version": "1.5.0",
            "value": " 30/30 [11:21&lt;00:00, 22.71s/it]",
            "_view_count": null,
            "_view_module_version": "1.5.0",
            "description_tooltip": null,
            "_model_module": "@jupyter-widgets/controls",
            "layout": "IPY_MODEL_e17791954ccf4f4985190144f64a7207"
          }
        },
        "d9f5e978f96e4fff9710078e9950103b": {
          "model_module": "@jupyter-widgets/controls",
          "model_name": "ProgressStyleModel",
          "state": {
            "_view_name": "StyleView",
            "_model_name": "ProgressStyleModel",
            "description_width": "initial",
            "_view_module": "@jupyter-widgets/base",
            "_model_module_version": "1.5.0",
            "_view_count": null,
            "_view_module_version": "1.2.0",
            "bar_color": null,
            "_model_module": "@jupyter-widgets/controls"
          }
        },
        "1b3c997005f6498ab69960d0f45f59a5": {
          "model_module": "@jupyter-widgets/base",
          "model_name": "LayoutModel",
          "state": {
            "_view_name": "LayoutView",
            "grid_template_rows": null,
            "right": null,
            "justify_content": null,
            "_view_module": "@jupyter-widgets/base",
            "overflow": null,
            "_model_module_version": "1.2.0",
            "_view_count": null,
            "flex_flow": null,
            "width": null,
            "min_width": null,
            "border": null,
            "align_items": null,
            "bottom": null,
            "_model_module": "@jupyter-widgets/base",
            "top": null,
            "grid_column": null,
            "overflow_y": null,
            "overflow_x": null,
            "grid_auto_flow": null,
            "grid_area": null,
            "grid_template_columns": null,
            "flex": null,
            "_model_name": "LayoutModel",
            "justify_items": null,
            "grid_row": null,
            "max_height": null,
            "align_content": null,
            "visibility": null,
            "align_self": null,
            "height": null,
            "min_height": null,
            "padding": null,
            "grid_auto_rows": null,
            "grid_gap": null,
            "max_width": null,
            "order": null,
            "_view_module_version": "1.2.0",
            "grid_template_areas": null,
            "object_position": null,
            "object_fit": null,
            "grid_auto_columns": null,
            "margin": null,
            "display": null,
            "left": null
          }
        },
        "40ada78123494792815b41dc1220cac3": {
          "model_module": "@jupyter-widgets/controls",
          "model_name": "DescriptionStyleModel",
          "state": {
            "_view_name": "StyleView",
            "_model_name": "DescriptionStyleModel",
            "description_width": "",
            "_view_module": "@jupyter-widgets/base",
            "_model_module_version": "1.5.0",
            "_view_count": null,
            "_view_module_version": "1.2.0",
            "_model_module": "@jupyter-widgets/controls"
          }
        },
        "e17791954ccf4f4985190144f64a7207": {
          "model_module": "@jupyter-widgets/base",
          "model_name": "LayoutModel",
          "state": {
            "_view_name": "LayoutView",
            "grid_template_rows": null,
            "right": null,
            "justify_content": null,
            "_view_module": "@jupyter-widgets/base",
            "overflow": null,
            "_model_module_version": "1.2.0",
            "_view_count": null,
            "flex_flow": null,
            "width": null,
            "min_width": null,
            "border": null,
            "align_items": null,
            "bottom": null,
            "_model_module": "@jupyter-widgets/base",
            "top": null,
            "grid_column": null,
            "overflow_y": null,
            "overflow_x": null,
            "grid_auto_flow": null,
            "grid_area": null,
            "grid_template_columns": null,
            "flex": null,
            "_model_name": "LayoutModel",
            "justify_items": null,
            "grid_row": null,
            "max_height": null,
            "align_content": null,
            "visibility": null,
            "align_self": null,
            "height": null,
            "min_height": null,
            "padding": null,
            "grid_auto_rows": null,
            "grid_gap": null,
            "max_width": null,
            "order": null,
            "_view_module_version": "1.2.0",
            "grid_template_areas": null,
            "object_position": null,
            "object_fit": null,
            "grid_auto_columns": null,
            "margin": null,
            "display": null,
            "left": null
          }
        },
        "863955db443f4279b6710a13ac9612de": {
          "model_module": "@jupyter-widgets/controls",
          "model_name": "HBoxModel",
          "state": {
            "_view_name": "HBoxView",
            "_dom_classes": [],
            "_model_name": "HBoxModel",
            "_view_module": "@jupyter-widgets/controls",
            "_model_module_version": "1.5.0",
            "_view_count": null,
            "_view_module_version": "1.5.0",
            "box_style": "",
            "layout": "IPY_MODEL_c5b005c8d1104eca8c9fc97ab1fe202a",
            "_model_module": "@jupyter-widgets/controls",
            "children": [
              "IPY_MODEL_f42e480672694aa79951c42e57038d24",
              "IPY_MODEL_b0eb77b0afc643a2bc4a6c85a92e001f"
            ]
          }
        },
        "c5b005c8d1104eca8c9fc97ab1fe202a": {
          "model_module": "@jupyter-widgets/base",
          "model_name": "LayoutModel",
          "state": {
            "_view_name": "LayoutView",
            "grid_template_rows": null,
            "right": null,
            "justify_content": null,
            "_view_module": "@jupyter-widgets/base",
            "overflow": null,
            "_model_module_version": "1.2.0",
            "_view_count": null,
            "flex_flow": null,
            "width": null,
            "min_width": null,
            "border": null,
            "align_items": null,
            "bottom": null,
            "_model_module": "@jupyter-widgets/base",
            "top": null,
            "grid_column": null,
            "overflow_y": null,
            "overflow_x": null,
            "grid_auto_flow": null,
            "grid_area": null,
            "grid_template_columns": null,
            "flex": null,
            "_model_name": "LayoutModel",
            "justify_items": null,
            "grid_row": null,
            "max_height": null,
            "align_content": null,
            "visibility": null,
            "align_self": null,
            "height": null,
            "min_height": null,
            "padding": null,
            "grid_auto_rows": null,
            "grid_gap": null,
            "max_width": null,
            "order": null,
            "_view_module_version": "1.2.0",
            "grid_template_areas": null,
            "object_position": null,
            "object_fit": null,
            "grid_auto_columns": null,
            "margin": null,
            "display": null,
            "left": null
          }
        },
        "f42e480672694aa79951c42e57038d24": {
          "model_module": "@jupyter-widgets/controls",
          "model_name": "FloatProgressModel",
          "state": {
            "_view_name": "ProgressView",
            "style": "IPY_MODEL_ad7839e91098497c85a8ad8278172a1b",
            "_dom_classes": [],
            "description": "100%",
            "_model_name": "FloatProgressModel",
            "bar_style": "success",
            "max": 30,
            "_view_module": "@jupyter-widgets/controls",
            "_model_module_version": "1.5.0",
            "value": 30,
            "_view_count": null,
            "_view_module_version": "1.5.0",
            "orientation": "horizontal",
            "min": 0,
            "description_tooltip": null,
            "_model_module": "@jupyter-widgets/controls",
            "layout": "IPY_MODEL_ec8f08a610554342ade135a69c3b1e91"
          }
        },
        "b0eb77b0afc643a2bc4a6c85a92e001f": {
          "model_module": "@jupyter-widgets/controls",
          "model_name": "HTMLModel",
          "state": {
            "_view_name": "HTMLView",
            "style": "IPY_MODEL_e6af39c07dd6468c8614d81406130b8e",
            "_dom_classes": [],
            "description": "",
            "_model_name": "HTMLModel",
            "placeholder": "​",
            "_view_module": "@jupyter-widgets/controls",
            "_model_module_version": "1.5.0",
            "value": " 30/30 [09:48&lt;00:00, 19.63s/it]",
            "_view_count": null,
            "_view_module_version": "1.5.0",
            "description_tooltip": null,
            "_model_module": "@jupyter-widgets/controls",
            "layout": "IPY_MODEL_83d9fd73f1a74810bcd5b4bf862f3176"
          }
        },
        "ad7839e91098497c85a8ad8278172a1b": {
          "model_module": "@jupyter-widgets/controls",
          "model_name": "ProgressStyleModel",
          "state": {
            "_view_name": "StyleView",
            "_model_name": "ProgressStyleModel",
            "description_width": "initial",
            "_view_module": "@jupyter-widgets/base",
            "_model_module_version": "1.5.0",
            "_view_count": null,
            "_view_module_version": "1.2.0",
            "bar_color": null,
            "_model_module": "@jupyter-widgets/controls"
          }
        },
        "ec8f08a610554342ade135a69c3b1e91": {
          "model_module": "@jupyter-widgets/base",
          "model_name": "LayoutModel",
          "state": {
            "_view_name": "LayoutView",
            "grid_template_rows": null,
            "right": null,
            "justify_content": null,
            "_view_module": "@jupyter-widgets/base",
            "overflow": null,
            "_model_module_version": "1.2.0",
            "_view_count": null,
            "flex_flow": null,
            "width": null,
            "min_width": null,
            "border": null,
            "align_items": null,
            "bottom": null,
            "_model_module": "@jupyter-widgets/base",
            "top": null,
            "grid_column": null,
            "overflow_y": null,
            "overflow_x": null,
            "grid_auto_flow": null,
            "grid_area": null,
            "grid_template_columns": null,
            "flex": null,
            "_model_name": "LayoutModel",
            "justify_items": null,
            "grid_row": null,
            "max_height": null,
            "align_content": null,
            "visibility": null,
            "align_self": null,
            "height": null,
            "min_height": null,
            "padding": null,
            "grid_auto_rows": null,
            "grid_gap": null,
            "max_width": null,
            "order": null,
            "_view_module_version": "1.2.0",
            "grid_template_areas": null,
            "object_position": null,
            "object_fit": null,
            "grid_auto_columns": null,
            "margin": null,
            "display": null,
            "left": null
          }
        },
        "e6af39c07dd6468c8614d81406130b8e": {
          "model_module": "@jupyter-widgets/controls",
          "model_name": "DescriptionStyleModel",
          "state": {
            "_view_name": "StyleView",
            "_model_name": "DescriptionStyleModel",
            "description_width": "",
            "_view_module": "@jupyter-widgets/base",
            "_model_module_version": "1.5.0",
            "_view_count": null,
            "_view_module_version": "1.2.0",
            "_model_module": "@jupyter-widgets/controls"
          }
        },
        "83d9fd73f1a74810bcd5b4bf862f3176": {
          "model_module": "@jupyter-widgets/base",
          "model_name": "LayoutModel",
          "state": {
            "_view_name": "LayoutView",
            "grid_template_rows": null,
            "right": null,
            "justify_content": null,
            "_view_module": "@jupyter-widgets/base",
            "overflow": null,
            "_model_module_version": "1.2.0",
            "_view_count": null,
            "flex_flow": null,
            "width": null,
            "min_width": null,
            "border": null,
            "align_items": null,
            "bottom": null,
            "_model_module": "@jupyter-widgets/base",
            "top": null,
            "grid_column": null,
            "overflow_y": null,
            "overflow_x": null,
            "grid_auto_flow": null,
            "grid_area": null,
            "grid_template_columns": null,
            "flex": null,
            "_model_name": "LayoutModel",
            "justify_items": null,
            "grid_row": null,
            "max_height": null,
            "align_content": null,
            "visibility": null,
            "align_self": null,
            "height": null,
            "min_height": null,
            "padding": null,
            "grid_auto_rows": null,
            "grid_gap": null,
            "max_width": null,
            "order": null,
            "_view_module_version": "1.2.0",
            "grid_template_areas": null,
            "object_position": null,
            "object_fit": null,
            "grid_auto_columns": null,
            "margin": null,
            "display": null,
            "left": null
          }
        },
        "7ad00ee6e8d840a1bbcbd0c0c129ef39": {
          "model_module": "@jupyter-widgets/controls",
          "model_name": "HBoxModel",
          "state": {
            "_view_name": "HBoxView",
            "_dom_classes": [],
            "_model_name": "HBoxModel",
            "_view_module": "@jupyter-widgets/controls",
            "_model_module_version": "1.5.0",
            "_view_count": null,
            "_view_module_version": "1.5.0",
            "box_style": "",
            "layout": "IPY_MODEL_9192bda46da5428dbb25e274e79cac1f",
            "_model_module": "@jupyter-widgets/controls",
            "children": [
              "IPY_MODEL_e0d33ff898484a57b3dac6002774d42e",
              "IPY_MODEL_f85687e38b2146eb8af26f24914ede9f"
            ]
          }
        },
        "9192bda46da5428dbb25e274e79cac1f": {
          "model_module": "@jupyter-widgets/base",
          "model_name": "LayoutModel",
          "state": {
            "_view_name": "LayoutView",
            "grid_template_rows": null,
            "right": null,
            "justify_content": null,
            "_view_module": "@jupyter-widgets/base",
            "overflow": null,
            "_model_module_version": "1.2.0",
            "_view_count": null,
            "flex_flow": null,
            "width": null,
            "min_width": null,
            "border": null,
            "align_items": null,
            "bottom": null,
            "_model_module": "@jupyter-widgets/base",
            "top": null,
            "grid_column": null,
            "overflow_y": null,
            "overflow_x": null,
            "grid_auto_flow": null,
            "grid_area": null,
            "grid_template_columns": null,
            "flex": null,
            "_model_name": "LayoutModel",
            "justify_items": null,
            "grid_row": null,
            "max_height": null,
            "align_content": null,
            "visibility": null,
            "align_self": null,
            "height": null,
            "min_height": null,
            "padding": null,
            "grid_auto_rows": null,
            "grid_gap": null,
            "max_width": null,
            "order": null,
            "_view_module_version": "1.2.0",
            "grid_template_areas": null,
            "object_position": null,
            "object_fit": null,
            "grid_auto_columns": null,
            "margin": null,
            "display": null,
            "left": null
          }
        },
        "e0d33ff898484a57b3dac6002774d42e": {
          "model_module": "@jupyter-widgets/controls",
          "model_name": "FloatProgressModel",
          "state": {
            "_view_name": "ProgressView",
            "style": "IPY_MODEL_990c570fc018430c90be73c8399e5ab6",
            "_dom_classes": [],
            "description": "100%",
            "_model_name": "FloatProgressModel",
            "bar_style": "success",
            "max": 30,
            "_view_module": "@jupyter-widgets/controls",
            "_model_module_version": "1.5.0",
            "value": 30,
            "_view_count": null,
            "_view_module_version": "1.5.0",
            "orientation": "horizontal",
            "min": 0,
            "description_tooltip": null,
            "_model_module": "@jupyter-widgets/controls",
            "layout": "IPY_MODEL_0b6c779c2b7945bfba7b6f01ec1048f1"
          }
        },
        "f85687e38b2146eb8af26f24914ede9f": {
          "model_module": "@jupyter-widgets/controls",
          "model_name": "HTMLModel",
          "state": {
            "_view_name": "HTMLView",
            "style": "IPY_MODEL_bdcba23d97714acdb3d10f4247c29a2c",
            "_dom_classes": [],
            "description": "",
            "_model_name": "HTMLModel",
            "placeholder": "​",
            "_view_module": "@jupyter-widgets/controls",
            "_model_module_version": "1.5.0",
            "value": " 30/30 [08:13&lt;00:00, 16.43s/it]",
            "_view_count": null,
            "_view_module_version": "1.5.0",
            "description_tooltip": null,
            "_model_module": "@jupyter-widgets/controls",
            "layout": "IPY_MODEL_f96423cd8a88495e8264f4cd1c7ac7ec"
          }
        },
        "990c570fc018430c90be73c8399e5ab6": {
          "model_module": "@jupyter-widgets/controls",
          "model_name": "ProgressStyleModel",
          "state": {
            "_view_name": "StyleView",
            "_model_name": "ProgressStyleModel",
            "description_width": "initial",
            "_view_module": "@jupyter-widgets/base",
            "_model_module_version": "1.5.0",
            "_view_count": null,
            "_view_module_version": "1.2.0",
            "bar_color": null,
            "_model_module": "@jupyter-widgets/controls"
          }
        },
        "0b6c779c2b7945bfba7b6f01ec1048f1": {
          "model_module": "@jupyter-widgets/base",
          "model_name": "LayoutModel",
          "state": {
            "_view_name": "LayoutView",
            "grid_template_rows": null,
            "right": null,
            "justify_content": null,
            "_view_module": "@jupyter-widgets/base",
            "overflow": null,
            "_model_module_version": "1.2.0",
            "_view_count": null,
            "flex_flow": null,
            "width": null,
            "min_width": null,
            "border": null,
            "align_items": null,
            "bottom": null,
            "_model_module": "@jupyter-widgets/base",
            "top": null,
            "grid_column": null,
            "overflow_y": null,
            "overflow_x": null,
            "grid_auto_flow": null,
            "grid_area": null,
            "grid_template_columns": null,
            "flex": null,
            "_model_name": "LayoutModel",
            "justify_items": null,
            "grid_row": null,
            "max_height": null,
            "align_content": null,
            "visibility": null,
            "align_self": null,
            "height": null,
            "min_height": null,
            "padding": null,
            "grid_auto_rows": null,
            "grid_gap": null,
            "max_width": null,
            "order": null,
            "_view_module_version": "1.2.0",
            "grid_template_areas": null,
            "object_position": null,
            "object_fit": null,
            "grid_auto_columns": null,
            "margin": null,
            "display": null,
            "left": null
          }
        },
        "bdcba23d97714acdb3d10f4247c29a2c": {
          "model_module": "@jupyter-widgets/controls",
          "model_name": "DescriptionStyleModel",
          "state": {
            "_view_name": "StyleView",
            "_model_name": "DescriptionStyleModel",
            "description_width": "",
            "_view_module": "@jupyter-widgets/base",
            "_model_module_version": "1.5.0",
            "_view_count": null,
            "_view_module_version": "1.2.0",
            "_model_module": "@jupyter-widgets/controls"
          }
        },
        "f96423cd8a88495e8264f4cd1c7ac7ec": {
          "model_module": "@jupyter-widgets/base",
          "model_name": "LayoutModel",
          "state": {
            "_view_name": "LayoutView",
            "grid_template_rows": null,
            "right": null,
            "justify_content": null,
            "_view_module": "@jupyter-widgets/base",
            "overflow": null,
            "_model_module_version": "1.2.0",
            "_view_count": null,
            "flex_flow": null,
            "width": null,
            "min_width": null,
            "border": null,
            "align_items": null,
            "bottom": null,
            "_model_module": "@jupyter-widgets/base",
            "top": null,
            "grid_column": null,
            "overflow_y": null,
            "overflow_x": null,
            "grid_auto_flow": null,
            "grid_area": null,
            "grid_template_columns": null,
            "flex": null,
            "_model_name": "LayoutModel",
            "justify_items": null,
            "grid_row": null,
            "max_height": null,
            "align_content": null,
            "visibility": null,
            "align_self": null,
            "height": null,
            "min_height": null,
            "padding": null,
            "grid_auto_rows": null,
            "grid_gap": null,
            "max_width": null,
            "order": null,
            "_view_module_version": "1.2.0",
            "grid_template_areas": null,
            "object_position": null,
            "object_fit": null,
            "grid_auto_columns": null,
            "margin": null,
            "display": null,
            "left": null
          }
        },
        "93c35b1ad70a44efa59594ccd3a32ce2": {
          "model_module": "@jupyter-widgets/controls",
          "model_name": "HBoxModel",
          "state": {
            "_view_name": "HBoxView",
            "_dom_classes": [],
            "_model_name": "HBoxModel",
            "_view_module": "@jupyter-widgets/controls",
            "_model_module_version": "1.5.0",
            "_view_count": null,
            "_view_module_version": "1.5.0",
            "box_style": "",
            "layout": "IPY_MODEL_7b49b94f28194b69a2efc3ee9020edcd",
            "_model_module": "@jupyter-widgets/controls",
            "children": [
              "IPY_MODEL_86d902b923af487198ee84fe9ef4d2c1",
              "IPY_MODEL_474153a17ac94de49bef5369b1450f76"
            ]
          }
        },
        "7b49b94f28194b69a2efc3ee9020edcd": {
          "model_module": "@jupyter-widgets/base",
          "model_name": "LayoutModel",
          "state": {
            "_view_name": "LayoutView",
            "grid_template_rows": null,
            "right": null,
            "justify_content": null,
            "_view_module": "@jupyter-widgets/base",
            "overflow": null,
            "_model_module_version": "1.2.0",
            "_view_count": null,
            "flex_flow": null,
            "width": null,
            "min_width": null,
            "border": null,
            "align_items": null,
            "bottom": null,
            "_model_module": "@jupyter-widgets/base",
            "top": null,
            "grid_column": null,
            "overflow_y": null,
            "overflow_x": null,
            "grid_auto_flow": null,
            "grid_area": null,
            "grid_template_columns": null,
            "flex": null,
            "_model_name": "LayoutModel",
            "justify_items": null,
            "grid_row": null,
            "max_height": null,
            "align_content": null,
            "visibility": null,
            "align_self": null,
            "height": null,
            "min_height": null,
            "padding": null,
            "grid_auto_rows": null,
            "grid_gap": null,
            "max_width": null,
            "order": null,
            "_view_module_version": "1.2.0",
            "grid_template_areas": null,
            "object_position": null,
            "object_fit": null,
            "grid_auto_columns": null,
            "margin": null,
            "display": null,
            "left": null
          }
        },
        "86d902b923af487198ee84fe9ef4d2c1": {
          "model_module": "@jupyter-widgets/controls",
          "model_name": "FloatProgressModel",
          "state": {
            "_view_name": "ProgressView",
            "style": "IPY_MODEL_df260baf942842719f60d78d7ac85f39",
            "_dom_classes": [],
            "description": "100%",
            "_model_name": "FloatProgressModel",
            "bar_style": "success",
            "max": 30,
            "_view_module": "@jupyter-widgets/controls",
            "_model_module_version": "1.5.0",
            "value": 30,
            "_view_count": null,
            "_view_module_version": "1.5.0",
            "orientation": "horizontal",
            "min": 0,
            "description_tooltip": null,
            "_model_module": "@jupyter-widgets/controls",
            "layout": "IPY_MODEL_25e39f3c17554ec29a1978d4ba6b7d26"
          }
        },
        "474153a17ac94de49bef5369b1450f76": {
          "model_module": "@jupyter-widgets/controls",
          "model_name": "HTMLModel",
          "state": {
            "_view_name": "HTMLView",
            "style": "IPY_MODEL_13ef1284ad9e4e18a3f6e278978caf99",
            "_dom_classes": [],
            "description": "",
            "_model_name": "HTMLModel",
            "placeholder": "​",
            "_view_module": "@jupyter-widgets/controls",
            "_model_module_version": "1.5.0",
            "value": " 30/30 [06:39&lt;00:00, 13.33s/it]",
            "_view_count": null,
            "_view_module_version": "1.5.0",
            "description_tooltip": null,
            "_model_module": "@jupyter-widgets/controls",
            "layout": "IPY_MODEL_ddd93816004a444c9a21b14927c26a70"
          }
        },
        "df260baf942842719f60d78d7ac85f39": {
          "model_module": "@jupyter-widgets/controls",
          "model_name": "ProgressStyleModel",
          "state": {
            "_view_name": "StyleView",
            "_model_name": "ProgressStyleModel",
            "description_width": "initial",
            "_view_module": "@jupyter-widgets/base",
            "_model_module_version": "1.5.0",
            "_view_count": null,
            "_view_module_version": "1.2.0",
            "bar_color": null,
            "_model_module": "@jupyter-widgets/controls"
          }
        },
        "25e39f3c17554ec29a1978d4ba6b7d26": {
          "model_module": "@jupyter-widgets/base",
          "model_name": "LayoutModel",
          "state": {
            "_view_name": "LayoutView",
            "grid_template_rows": null,
            "right": null,
            "justify_content": null,
            "_view_module": "@jupyter-widgets/base",
            "overflow": null,
            "_model_module_version": "1.2.0",
            "_view_count": null,
            "flex_flow": null,
            "width": null,
            "min_width": null,
            "border": null,
            "align_items": null,
            "bottom": null,
            "_model_module": "@jupyter-widgets/base",
            "top": null,
            "grid_column": null,
            "overflow_y": null,
            "overflow_x": null,
            "grid_auto_flow": null,
            "grid_area": null,
            "grid_template_columns": null,
            "flex": null,
            "_model_name": "LayoutModel",
            "justify_items": null,
            "grid_row": null,
            "max_height": null,
            "align_content": null,
            "visibility": null,
            "align_self": null,
            "height": null,
            "min_height": null,
            "padding": null,
            "grid_auto_rows": null,
            "grid_gap": null,
            "max_width": null,
            "order": null,
            "_view_module_version": "1.2.0",
            "grid_template_areas": null,
            "object_position": null,
            "object_fit": null,
            "grid_auto_columns": null,
            "margin": null,
            "display": null,
            "left": null
          }
        },
        "13ef1284ad9e4e18a3f6e278978caf99": {
          "model_module": "@jupyter-widgets/controls",
          "model_name": "DescriptionStyleModel",
          "state": {
            "_view_name": "StyleView",
            "_model_name": "DescriptionStyleModel",
            "description_width": "",
            "_view_module": "@jupyter-widgets/base",
            "_model_module_version": "1.5.0",
            "_view_count": null,
            "_view_module_version": "1.2.0",
            "_model_module": "@jupyter-widgets/controls"
          }
        },
        "ddd93816004a444c9a21b14927c26a70": {
          "model_module": "@jupyter-widgets/base",
          "model_name": "LayoutModel",
          "state": {
            "_view_name": "LayoutView",
            "grid_template_rows": null,
            "right": null,
            "justify_content": null,
            "_view_module": "@jupyter-widgets/base",
            "overflow": null,
            "_model_module_version": "1.2.0",
            "_view_count": null,
            "flex_flow": null,
            "width": null,
            "min_width": null,
            "border": null,
            "align_items": null,
            "bottom": null,
            "_model_module": "@jupyter-widgets/base",
            "top": null,
            "grid_column": null,
            "overflow_y": null,
            "overflow_x": null,
            "grid_auto_flow": null,
            "grid_area": null,
            "grid_template_columns": null,
            "flex": null,
            "_model_name": "LayoutModel",
            "justify_items": null,
            "grid_row": null,
            "max_height": null,
            "align_content": null,
            "visibility": null,
            "align_self": null,
            "height": null,
            "min_height": null,
            "padding": null,
            "grid_auto_rows": null,
            "grid_gap": null,
            "max_width": null,
            "order": null,
            "_view_module_version": "1.2.0",
            "grid_template_areas": null,
            "object_position": null,
            "object_fit": null,
            "grid_auto_columns": null,
            "margin": null,
            "display": null,
            "left": null
          }
        },
        "42e75525004e462c97ec3539fa4229e8": {
          "model_module": "@jupyter-widgets/controls",
          "model_name": "HBoxModel",
          "state": {
            "_view_name": "HBoxView",
            "_dom_classes": [],
            "_model_name": "HBoxModel",
            "_view_module": "@jupyter-widgets/controls",
            "_model_module_version": "1.5.0",
            "_view_count": null,
            "_view_module_version": "1.5.0",
            "box_style": "",
            "layout": "IPY_MODEL_f8ff39002fa942b2bdbedc47ec216bbc",
            "_model_module": "@jupyter-widgets/controls",
            "children": [
              "IPY_MODEL_2ab42a7f3a884b93ad3d92c180516c1f",
              "IPY_MODEL_b5339f28d99245c78da3c30e31ea69c0"
            ]
          }
        },
        "f8ff39002fa942b2bdbedc47ec216bbc": {
          "model_module": "@jupyter-widgets/base",
          "model_name": "LayoutModel",
          "state": {
            "_view_name": "LayoutView",
            "grid_template_rows": null,
            "right": null,
            "justify_content": null,
            "_view_module": "@jupyter-widgets/base",
            "overflow": null,
            "_model_module_version": "1.2.0",
            "_view_count": null,
            "flex_flow": null,
            "width": null,
            "min_width": null,
            "border": null,
            "align_items": null,
            "bottom": null,
            "_model_module": "@jupyter-widgets/base",
            "top": null,
            "grid_column": null,
            "overflow_y": null,
            "overflow_x": null,
            "grid_auto_flow": null,
            "grid_area": null,
            "grid_template_columns": null,
            "flex": null,
            "_model_name": "LayoutModel",
            "justify_items": null,
            "grid_row": null,
            "max_height": null,
            "align_content": null,
            "visibility": null,
            "align_self": null,
            "height": null,
            "min_height": null,
            "padding": null,
            "grid_auto_rows": null,
            "grid_gap": null,
            "max_width": null,
            "order": null,
            "_view_module_version": "1.2.0",
            "grid_template_areas": null,
            "object_position": null,
            "object_fit": null,
            "grid_auto_columns": null,
            "margin": null,
            "display": null,
            "left": null
          }
        },
        "2ab42a7f3a884b93ad3d92c180516c1f": {
          "model_module": "@jupyter-widgets/controls",
          "model_name": "FloatProgressModel",
          "state": {
            "_view_name": "ProgressView",
            "style": "IPY_MODEL_d51a59ed5b2544aab65218197db72af3",
            "_dom_classes": [],
            "description": "100%",
            "_model_name": "FloatProgressModel",
            "bar_style": "success",
            "max": 30,
            "_view_module": "@jupyter-widgets/controls",
            "_model_module_version": "1.5.0",
            "value": 30,
            "_view_count": null,
            "_view_module_version": "1.5.0",
            "orientation": "horizontal",
            "min": 0,
            "description_tooltip": null,
            "_model_module": "@jupyter-widgets/controls",
            "layout": "IPY_MODEL_3c4144c04deb42e2b4085b777302f5f2"
          }
        },
        "b5339f28d99245c78da3c30e31ea69c0": {
          "model_module": "@jupyter-widgets/controls",
          "model_name": "HTMLModel",
          "state": {
            "_view_name": "HTMLView",
            "style": "IPY_MODEL_170b05bff5014968b2fba7e1fc99d006",
            "_dom_classes": [],
            "description": "",
            "_model_name": "HTMLModel",
            "placeholder": "​",
            "_view_module": "@jupyter-widgets/controls",
            "_model_module_version": "1.5.0",
            "value": " 30/30 [05:05&lt;00:00, 10.20s/it]",
            "_view_count": null,
            "_view_module_version": "1.5.0",
            "description_tooltip": null,
            "_model_module": "@jupyter-widgets/controls",
            "layout": "IPY_MODEL_74d5254ff15c48ca9af61aa7fdfe40ea"
          }
        },
        "d51a59ed5b2544aab65218197db72af3": {
          "model_module": "@jupyter-widgets/controls",
          "model_name": "ProgressStyleModel",
          "state": {
            "_view_name": "StyleView",
            "_model_name": "ProgressStyleModel",
            "description_width": "initial",
            "_view_module": "@jupyter-widgets/base",
            "_model_module_version": "1.5.0",
            "_view_count": null,
            "_view_module_version": "1.2.0",
            "bar_color": null,
            "_model_module": "@jupyter-widgets/controls"
          }
        },
        "3c4144c04deb42e2b4085b777302f5f2": {
          "model_module": "@jupyter-widgets/base",
          "model_name": "LayoutModel",
          "state": {
            "_view_name": "LayoutView",
            "grid_template_rows": null,
            "right": null,
            "justify_content": null,
            "_view_module": "@jupyter-widgets/base",
            "overflow": null,
            "_model_module_version": "1.2.0",
            "_view_count": null,
            "flex_flow": null,
            "width": null,
            "min_width": null,
            "border": null,
            "align_items": null,
            "bottom": null,
            "_model_module": "@jupyter-widgets/base",
            "top": null,
            "grid_column": null,
            "overflow_y": null,
            "overflow_x": null,
            "grid_auto_flow": null,
            "grid_area": null,
            "grid_template_columns": null,
            "flex": null,
            "_model_name": "LayoutModel",
            "justify_items": null,
            "grid_row": null,
            "max_height": null,
            "align_content": null,
            "visibility": null,
            "align_self": null,
            "height": null,
            "min_height": null,
            "padding": null,
            "grid_auto_rows": null,
            "grid_gap": null,
            "max_width": null,
            "order": null,
            "_view_module_version": "1.2.0",
            "grid_template_areas": null,
            "object_position": null,
            "object_fit": null,
            "grid_auto_columns": null,
            "margin": null,
            "display": null,
            "left": null
          }
        },
        "170b05bff5014968b2fba7e1fc99d006": {
          "model_module": "@jupyter-widgets/controls",
          "model_name": "DescriptionStyleModel",
          "state": {
            "_view_name": "StyleView",
            "_model_name": "DescriptionStyleModel",
            "description_width": "",
            "_view_module": "@jupyter-widgets/base",
            "_model_module_version": "1.5.0",
            "_view_count": null,
            "_view_module_version": "1.2.0",
            "_model_module": "@jupyter-widgets/controls"
          }
        },
        "74d5254ff15c48ca9af61aa7fdfe40ea": {
          "model_module": "@jupyter-widgets/base",
          "model_name": "LayoutModel",
          "state": {
            "_view_name": "LayoutView",
            "grid_template_rows": null,
            "right": null,
            "justify_content": null,
            "_view_module": "@jupyter-widgets/base",
            "overflow": null,
            "_model_module_version": "1.2.0",
            "_view_count": null,
            "flex_flow": null,
            "width": null,
            "min_width": null,
            "border": null,
            "align_items": null,
            "bottom": null,
            "_model_module": "@jupyter-widgets/base",
            "top": null,
            "grid_column": null,
            "overflow_y": null,
            "overflow_x": null,
            "grid_auto_flow": null,
            "grid_area": null,
            "grid_template_columns": null,
            "flex": null,
            "_model_name": "LayoutModel",
            "justify_items": null,
            "grid_row": null,
            "max_height": null,
            "align_content": null,
            "visibility": null,
            "align_self": null,
            "height": null,
            "min_height": null,
            "padding": null,
            "grid_auto_rows": null,
            "grid_gap": null,
            "max_width": null,
            "order": null,
            "_view_module_version": "1.2.0",
            "grid_template_areas": null,
            "object_position": null,
            "object_fit": null,
            "grid_auto_columns": null,
            "margin": null,
            "display": null,
            "left": null
          }
        },
        "a680f0d0baee495f8d0c9d599ffd962b": {
          "model_module": "@jupyter-widgets/controls",
          "model_name": "HBoxModel",
          "state": {
            "_view_name": "HBoxView",
            "_dom_classes": [],
            "_model_name": "HBoxModel",
            "_view_module": "@jupyter-widgets/controls",
            "_model_module_version": "1.5.0",
            "_view_count": null,
            "_view_module_version": "1.5.0",
            "box_style": "",
            "layout": "IPY_MODEL_a71df356495d40e4906fd71d893ecd53",
            "_model_module": "@jupyter-widgets/controls",
            "children": [
              "IPY_MODEL_f71dd35bd6244f29b89cac300d0c7296",
              "IPY_MODEL_ad75b7c5e7044f92affbef0e581408aa"
            ]
          }
        },
        "a71df356495d40e4906fd71d893ecd53": {
          "model_module": "@jupyter-widgets/base",
          "model_name": "LayoutModel",
          "state": {
            "_view_name": "LayoutView",
            "grid_template_rows": null,
            "right": null,
            "justify_content": null,
            "_view_module": "@jupyter-widgets/base",
            "overflow": null,
            "_model_module_version": "1.2.0",
            "_view_count": null,
            "flex_flow": null,
            "width": null,
            "min_width": null,
            "border": null,
            "align_items": null,
            "bottom": null,
            "_model_module": "@jupyter-widgets/base",
            "top": null,
            "grid_column": null,
            "overflow_y": null,
            "overflow_x": null,
            "grid_auto_flow": null,
            "grid_area": null,
            "grid_template_columns": null,
            "flex": null,
            "_model_name": "LayoutModel",
            "justify_items": null,
            "grid_row": null,
            "max_height": null,
            "align_content": null,
            "visibility": null,
            "align_self": null,
            "height": null,
            "min_height": null,
            "padding": null,
            "grid_auto_rows": null,
            "grid_gap": null,
            "max_width": null,
            "order": null,
            "_view_module_version": "1.2.0",
            "grid_template_areas": null,
            "object_position": null,
            "object_fit": null,
            "grid_auto_columns": null,
            "margin": null,
            "display": null,
            "left": null
          }
        },
        "f71dd35bd6244f29b89cac300d0c7296": {
          "model_module": "@jupyter-widgets/controls",
          "model_name": "FloatProgressModel",
          "state": {
            "_view_name": "ProgressView",
            "style": "IPY_MODEL_45805bc0f35e49618eee1731721084e0",
            "_dom_classes": [],
            "description": "100%",
            "_model_name": "FloatProgressModel",
            "bar_style": "success",
            "max": 30,
            "_view_module": "@jupyter-widgets/controls",
            "_model_module_version": "1.5.0",
            "value": 30,
            "_view_count": null,
            "_view_module_version": "1.5.0",
            "orientation": "horizontal",
            "min": 0,
            "description_tooltip": null,
            "_model_module": "@jupyter-widgets/controls",
            "layout": "IPY_MODEL_04b647c791f34ac5ac9c57130b00af57"
          }
        },
        "ad75b7c5e7044f92affbef0e581408aa": {
          "model_module": "@jupyter-widgets/controls",
          "model_name": "HTMLModel",
          "state": {
            "_view_name": "HTMLView",
            "style": "IPY_MODEL_354322dcfb5540208de0482c73ed7938",
            "_dom_classes": [],
            "description": "",
            "_model_name": "HTMLModel",
            "placeholder": "​",
            "_view_module": "@jupyter-widgets/controls",
            "_model_module_version": "1.5.0",
            "value": " 30/30 [01:32&lt;00:00,  3.08s/it]",
            "_view_count": null,
            "_view_module_version": "1.5.0",
            "description_tooltip": null,
            "_model_module": "@jupyter-widgets/controls",
            "layout": "IPY_MODEL_47a08e5a5b88480a9da2935d8edd204e"
          }
        },
        "45805bc0f35e49618eee1731721084e0": {
          "model_module": "@jupyter-widgets/controls",
          "model_name": "ProgressStyleModel",
          "state": {
            "_view_name": "StyleView",
            "_model_name": "ProgressStyleModel",
            "description_width": "initial",
            "_view_module": "@jupyter-widgets/base",
            "_model_module_version": "1.5.0",
            "_view_count": null,
            "_view_module_version": "1.2.0",
            "bar_color": null,
            "_model_module": "@jupyter-widgets/controls"
          }
        },
        "04b647c791f34ac5ac9c57130b00af57": {
          "model_module": "@jupyter-widgets/base",
          "model_name": "LayoutModel",
          "state": {
            "_view_name": "LayoutView",
            "grid_template_rows": null,
            "right": null,
            "justify_content": null,
            "_view_module": "@jupyter-widgets/base",
            "overflow": null,
            "_model_module_version": "1.2.0",
            "_view_count": null,
            "flex_flow": null,
            "width": null,
            "min_width": null,
            "border": null,
            "align_items": null,
            "bottom": null,
            "_model_module": "@jupyter-widgets/base",
            "top": null,
            "grid_column": null,
            "overflow_y": null,
            "overflow_x": null,
            "grid_auto_flow": null,
            "grid_area": null,
            "grid_template_columns": null,
            "flex": null,
            "_model_name": "LayoutModel",
            "justify_items": null,
            "grid_row": null,
            "max_height": null,
            "align_content": null,
            "visibility": null,
            "align_self": null,
            "height": null,
            "min_height": null,
            "padding": null,
            "grid_auto_rows": null,
            "grid_gap": null,
            "max_width": null,
            "order": null,
            "_view_module_version": "1.2.0",
            "grid_template_areas": null,
            "object_position": null,
            "object_fit": null,
            "grid_auto_columns": null,
            "margin": null,
            "display": null,
            "left": null
          }
        },
        "354322dcfb5540208de0482c73ed7938": {
          "model_module": "@jupyter-widgets/controls",
          "model_name": "DescriptionStyleModel",
          "state": {
            "_view_name": "StyleView",
            "_model_name": "DescriptionStyleModel",
            "description_width": "",
            "_view_module": "@jupyter-widgets/base",
            "_model_module_version": "1.5.0",
            "_view_count": null,
            "_view_module_version": "1.2.0",
            "_model_module": "@jupyter-widgets/controls"
          }
        },
        "47a08e5a5b88480a9da2935d8edd204e": {
          "model_module": "@jupyter-widgets/base",
          "model_name": "LayoutModel",
          "state": {
            "_view_name": "LayoutView",
            "grid_template_rows": null,
            "right": null,
            "justify_content": null,
            "_view_module": "@jupyter-widgets/base",
            "overflow": null,
            "_model_module_version": "1.2.0",
            "_view_count": null,
            "flex_flow": null,
            "width": null,
            "min_width": null,
            "border": null,
            "align_items": null,
            "bottom": null,
            "_model_module": "@jupyter-widgets/base",
            "top": null,
            "grid_column": null,
            "overflow_y": null,
            "overflow_x": null,
            "grid_auto_flow": null,
            "grid_area": null,
            "grid_template_columns": null,
            "flex": null,
            "_model_name": "LayoutModel",
            "justify_items": null,
            "grid_row": null,
            "max_height": null,
            "align_content": null,
            "visibility": null,
            "align_self": null,
            "height": null,
            "min_height": null,
            "padding": null,
            "grid_auto_rows": null,
            "grid_gap": null,
            "max_width": null,
            "order": null,
            "_view_module_version": "1.2.0",
            "grid_template_areas": null,
            "object_position": null,
            "object_fit": null,
            "grid_auto_columns": null,
            "margin": null,
            "display": null,
            "left": null
          }
        },
        "00fe547ec3c640eb879df2ac970e614d": {
          "model_module": "@jupyter-widgets/controls",
          "model_name": "HBoxModel",
          "state": {
            "_view_name": "HBoxView",
            "_dom_classes": [],
            "_model_name": "HBoxModel",
            "_view_module": "@jupyter-widgets/controls",
            "_model_module_version": "1.5.0",
            "_view_count": null,
            "_view_module_version": "1.5.0",
            "box_style": "",
            "layout": "IPY_MODEL_ae88e25cc8be498a90f7bc4eb277b8f3",
            "_model_module": "@jupyter-widgets/controls",
            "children": [
              "IPY_MODEL_64f8eaa6dfaf46ccbdbea65d371abd96",
              "IPY_MODEL_91d3abc68834477e8e223d0d798378c0"
            ]
          }
        },
        "ae88e25cc8be498a90f7bc4eb277b8f3": {
          "model_module": "@jupyter-widgets/base",
          "model_name": "LayoutModel",
          "state": {
            "_view_name": "LayoutView",
            "grid_template_rows": null,
            "right": null,
            "justify_content": null,
            "_view_module": "@jupyter-widgets/base",
            "overflow": null,
            "_model_module_version": "1.2.0",
            "_view_count": null,
            "flex_flow": null,
            "width": null,
            "min_width": null,
            "border": null,
            "align_items": null,
            "bottom": null,
            "_model_module": "@jupyter-widgets/base",
            "top": null,
            "grid_column": null,
            "overflow_y": null,
            "overflow_x": null,
            "grid_auto_flow": null,
            "grid_area": null,
            "grid_template_columns": null,
            "flex": null,
            "_model_name": "LayoutModel",
            "justify_items": null,
            "grid_row": null,
            "max_height": null,
            "align_content": null,
            "visibility": null,
            "align_self": null,
            "height": null,
            "min_height": null,
            "padding": null,
            "grid_auto_rows": null,
            "grid_gap": null,
            "max_width": null,
            "order": null,
            "_view_module_version": "1.2.0",
            "grid_template_areas": null,
            "object_position": null,
            "object_fit": null,
            "grid_auto_columns": null,
            "margin": null,
            "display": null,
            "left": null
          }
        },
        "64f8eaa6dfaf46ccbdbea65d371abd96": {
          "model_module": "@jupyter-widgets/controls",
          "model_name": "FloatProgressModel",
          "state": {
            "_view_name": "ProgressView",
            "style": "IPY_MODEL_2bb1d14fa010460b8a6782d16c7e22ad",
            "_dom_classes": [],
            "description": "100%",
            "_model_name": "FloatProgressModel",
            "bar_style": "success",
            "max": 30,
            "_view_module": "@jupyter-widgets/controls",
            "_model_module_version": "1.5.0",
            "value": 30,
            "_view_count": null,
            "_view_module_version": "1.5.0",
            "orientation": "horizontal",
            "min": 0,
            "description_tooltip": null,
            "_model_module": "@jupyter-widgets/controls",
            "layout": "IPY_MODEL_21bb5b24db3e433d8fad9d041ec01e8a"
          }
        },
        "91d3abc68834477e8e223d0d798378c0": {
          "model_module": "@jupyter-widgets/controls",
          "model_name": "HTMLModel",
          "state": {
            "_view_name": "HTMLView",
            "style": "IPY_MODEL_0af790fb83fe4b0d92838bede21df60b",
            "_dom_classes": [],
            "description": "",
            "_model_name": "HTMLModel",
            "placeholder": "​",
            "_view_module": "@jupyter-widgets/controls",
            "_model_module_version": "1.5.0",
            "value": " 30/30 [02:02&lt;00:00,  4.07s/it]",
            "_view_count": null,
            "_view_module_version": "1.5.0",
            "description_tooltip": null,
            "_model_module": "@jupyter-widgets/controls",
            "layout": "IPY_MODEL_bddaa9b6e37d4580b84d20b9ade2708d"
          }
        },
        "2bb1d14fa010460b8a6782d16c7e22ad": {
          "model_module": "@jupyter-widgets/controls",
          "model_name": "ProgressStyleModel",
          "state": {
            "_view_name": "StyleView",
            "_model_name": "ProgressStyleModel",
            "description_width": "initial",
            "_view_module": "@jupyter-widgets/base",
            "_model_module_version": "1.5.0",
            "_view_count": null,
            "_view_module_version": "1.2.0",
            "bar_color": null,
            "_model_module": "@jupyter-widgets/controls"
          }
        },
        "21bb5b24db3e433d8fad9d041ec01e8a": {
          "model_module": "@jupyter-widgets/base",
          "model_name": "LayoutModel",
          "state": {
            "_view_name": "LayoutView",
            "grid_template_rows": null,
            "right": null,
            "justify_content": null,
            "_view_module": "@jupyter-widgets/base",
            "overflow": null,
            "_model_module_version": "1.2.0",
            "_view_count": null,
            "flex_flow": null,
            "width": null,
            "min_width": null,
            "border": null,
            "align_items": null,
            "bottom": null,
            "_model_module": "@jupyter-widgets/base",
            "top": null,
            "grid_column": null,
            "overflow_y": null,
            "overflow_x": null,
            "grid_auto_flow": null,
            "grid_area": null,
            "grid_template_columns": null,
            "flex": null,
            "_model_name": "LayoutModel",
            "justify_items": null,
            "grid_row": null,
            "max_height": null,
            "align_content": null,
            "visibility": null,
            "align_self": null,
            "height": null,
            "min_height": null,
            "padding": null,
            "grid_auto_rows": null,
            "grid_gap": null,
            "max_width": null,
            "order": null,
            "_view_module_version": "1.2.0",
            "grid_template_areas": null,
            "object_position": null,
            "object_fit": null,
            "grid_auto_columns": null,
            "margin": null,
            "display": null,
            "left": null
          }
        },
        "0af790fb83fe4b0d92838bede21df60b": {
          "model_module": "@jupyter-widgets/controls",
          "model_name": "DescriptionStyleModel",
          "state": {
            "_view_name": "StyleView",
            "_model_name": "DescriptionStyleModel",
            "description_width": "",
            "_view_module": "@jupyter-widgets/base",
            "_model_module_version": "1.5.0",
            "_view_count": null,
            "_view_module_version": "1.2.0",
            "_model_module": "@jupyter-widgets/controls"
          }
        },
        "bddaa9b6e37d4580b84d20b9ade2708d": {
          "model_module": "@jupyter-widgets/base",
          "model_name": "LayoutModel",
          "state": {
            "_view_name": "LayoutView",
            "grid_template_rows": null,
            "right": null,
            "justify_content": null,
            "_view_module": "@jupyter-widgets/base",
            "overflow": null,
            "_model_module_version": "1.2.0",
            "_view_count": null,
            "flex_flow": null,
            "width": null,
            "min_width": null,
            "border": null,
            "align_items": null,
            "bottom": null,
            "_model_module": "@jupyter-widgets/base",
            "top": null,
            "grid_column": null,
            "overflow_y": null,
            "overflow_x": null,
            "grid_auto_flow": null,
            "grid_area": null,
            "grid_template_columns": null,
            "flex": null,
            "_model_name": "LayoutModel",
            "justify_items": null,
            "grid_row": null,
            "max_height": null,
            "align_content": null,
            "visibility": null,
            "align_self": null,
            "height": null,
            "min_height": null,
            "padding": null,
            "grid_auto_rows": null,
            "grid_gap": null,
            "max_width": null,
            "order": null,
            "_view_module_version": "1.2.0",
            "grid_template_areas": null,
            "object_position": null,
            "object_fit": null,
            "grid_auto_columns": null,
            "margin": null,
            "display": null,
            "left": null
          }
        },
        "5281edd57d0e4561997dcc93a2f95e30": {
          "model_module": "@jupyter-widgets/controls",
          "model_name": "HBoxModel",
          "state": {
            "_view_name": "HBoxView",
            "_dom_classes": [],
            "_model_name": "HBoxModel",
            "_view_module": "@jupyter-widgets/controls",
            "_model_module_version": "1.5.0",
            "_view_count": null,
            "_view_module_version": "1.5.0",
            "box_style": "",
            "layout": "IPY_MODEL_e36abe3607d245f1befef1eedff738d3",
            "_model_module": "@jupyter-widgets/controls",
            "children": [
              "IPY_MODEL_ad0bc83fc66d47479bbb3af5f4193ab1",
              "IPY_MODEL_6b16bbcd7a094e10b6320cd3ec647616"
            ]
          }
        },
        "e36abe3607d245f1befef1eedff738d3": {
          "model_module": "@jupyter-widgets/base",
          "model_name": "LayoutModel",
          "state": {
            "_view_name": "LayoutView",
            "grid_template_rows": null,
            "right": null,
            "justify_content": null,
            "_view_module": "@jupyter-widgets/base",
            "overflow": null,
            "_model_module_version": "1.2.0",
            "_view_count": null,
            "flex_flow": null,
            "width": null,
            "min_width": null,
            "border": null,
            "align_items": null,
            "bottom": null,
            "_model_module": "@jupyter-widgets/base",
            "top": null,
            "grid_column": null,
            "overflow_y": null,
            "overflow_x": null,
            "grid_auto_flow": null,
            "grid_area": null,
            "grid_template_columns": null,
            "flex": null,
            "_model_name": "LayoutModel",
            "justify_items": null,
            "grid_row": null,
            "max_height": null,
            "align_content": null,
            "visibility": null,
            "align_self": null,
            "height": null,
            "min_height": null,
            "padding": null,
            "grid_auto_rows": null,
            "grid_gap": null,
            "max_width": null,
            "order": null,
            "_view_module_version": "1.2.0",
            "grid_template_areas": null,
            "object_position": null,
            "object_fit": null,
            "grid_auto_columns": null,
            "margin": null,
            "display": null,
            "left": null
          }
        },
        "ad0bc83fc66d47479bbb3af5f4193ab1": {
          "model_module": "@jupyter-widgets/controls",
          "model_name": "FloatProgressModel",
          "state": {
            "_view_name": "ProgressView",
            "style": "IPY_MODEL_84251f5260124bc3b81c8e20a1c20bcc",
            "_dom_classes": [],
            "description": "100%",
            "_model_name": "FloatProgressModel",
            "bar_style": "success",
            "max": 30,
            "_view_module": "@jupyter-widgets/controls",
            "_model_module_version": "1.5.0",
            "value": 30,
            "_view_count": null,
            "_view_module_version": "1.5.0",
            "orientation": "horizontal",
            "min": 0,
            "description_tooltip": null,
            "_model_module": "@jupyter-widgets/controls",
            "layout": "IPY_MODEL_ad459354befa41ec9a68b533634cb97b"
          }
        },
        "6b16bbcd7a094e10b6320cd3ec647616": {
          "model_module": "@jupyter-widgets/controls",
          "model_name": "HTMLModel",
          "state": {
            "_view_name": "HTMLView",
            "style": "IPY_MODEL_864a363e73c24a66a74c008e13d8b747",
            "_dom_classes": [],
            "description": "",
            "_model_name": "HTMLModel",
            "placeholder": "​",
            "_view_module": "@jupyter-widgets/controls",
            "_model_module_version": "1.5.0",
            "value": " 30/30 [08:10&lt;00:00, 16.33s/it]",
            "_view_count": null,
            "_view_module_version": "1.5.0",
            "description_tooltip": null,
            "_model_module": "@jupyter-widgets/controls",
            "layout": "IPY_MODEL_6f561b8d4d1f4a74ba15803da805f589"
          }
        },
        "84251f5260124bc3b81c8e20a1c20bcc": {
          "model_module": "@jupyter-widgets/controls",
          "model_name": "ProgressStyleModel",
          "state": {
            "_view_name": "StyleView",
            "_model_name": "ProgressStyleModel",
            "description_width": "initial",
            "_view_module": "@jupyter-widgets/base",
            "_model_module_version": "1.5.0",
            "_view_count": null,
            "_view_module_version": "1.2.0",
            "bar_color": null,
            "_model_module": "@jupyter-widgets/controls"
          }
        },
        "ad459354befa41ec9a68b533634cb97b": {
          "model_module": "@jupyter-widgets/base",
          "model_name": "LayoutModel",
          "state": {
            "_view_name": "LayoutView",
            "grid_template_rows": null,
            "right": null,
            "justify_content": null,
            "_view_module": "@jupyter-widgets/base",
            "overflow": null,
            "_model_module_version": "1.2.0",
            "_view_count": null,
            "flex_flow": null,
            "width": null,
            "min_width": null,
            "border": null,
            "align_items": null,
            "bottom": null,
            "_model_module": "@jupyter-widgets/base",
            "top": null,
            "grid_column": null,
            "overflow_y": null,
            "overflow_x": null,
            "grid_auto_flow": null,
            "grid_area": null,
            "grid_template_columns": null,
            "flex": null,
            "_model_name": "LayoutModel",
            "justify_items": null,
            "grid_row": null,
            "max_height": null,
            "align_content": null,
            "visibility": null,
            "align_self": null,
            "height": null,
            "min_height": null,
            "padding": null,
            "grid_auto_rows": null,
            "grid_gap": null,
            "max_width": null,
            "order": null,
            "_view_module_version": "1.2.0",
            "grid_template_areas": null,
            "object_position": null,
            "object_fit": null,
            "grid_auto_columns": null,
            "margin": null,
            "display": null,
            "left": null
          }
        },
        "864a363e73c24a66a74c008e13d8b747": {
          "model_module": "@jupyter-widgets/controls",
          "model_name": "DescriptionStyleModel",
          "state": {
            "_view_name": "StyleView",
            "_model_name": "DescriptionStyleModel",
            "description_width": "",
            "_view_module": "@jupyter-widgets/base",
            "_model_module_version": "1.5.0",
            "_view_count": null,
            "_view_module_version": "1.2.0",
            "_model_module": "@jupyter-widgets/controls"
          }
        },
        "6f561b8d4d1f4a74ba15803da805f589": {
          "model_module": "@jupyter-widgets/base",
          "model_name": "LayoutModel",
          "state": {
            "_view_name": "LayoutView",
            "grid_template_rows": null,
            "right": null,
            "justify_content": null,
            "_view_module": "@jupyter-widgets/base",
            "overflow": null,
            "_model_module_version": "1.2.0",
            "_view_count": null,
            "flex_flow": null,
            "width": null,
            "min_width": null,
            "border": null,
            "align_items": null,
            "bottom": null,
            "_model_module": "@jupyter-widgets/base",
            "top": null,
            "grid_column": null,
            "overflow_y": null,
            "overflow_x": null,
            "grid_auto_flow": null,
            "grid_area": null,
            "grid_template_columns": null,
            "flex": null,
            "_model_name": "LayoutModel",
            "justify_items": null,
            "grid_row": null,
            "max_height": null,
            "align_content": null,
            "visibility": null,
            "align_self": null,
            "height": null,
            "min_height": null,
            "padding": null,
            "grid_auto_rows": null,
            "grid_gap": null,
            "max_width": null,
            "order": null,
            "_view_module_version": "1.2.0",
            "grid_template_areas": null,
            "object_position": null,
            "object_fit": null,
            "grid_auto_columns": null,
            "margin": null,
            "display": null,
            "left": null
          }
        },
        "658c40607e0347cca22887d470ddb859": {
          "model_module": "@jupyter-widgets/controls",
          "model_name": "HBoxModel",
          "state": {
            "_view_name": "HBoxView",
            "_dom_classes": [],
            "_model_name": "HBoxModel",
            "_view_module": "@jupyter-widgets/controls",
            "_model_module_version": "1.5.0",
            "_view_count": null,
            "_view_module_version": "1.5.0",
            "box_style": "",
            "layout": "IPY_MODEL_0559c02d65ed45b490e7ef8cd380be8d",
            "_model_module": "@jupyter-widgets/controls",
            "children": [
              "IPY_MODEL_aad664e0a9114fb5b60ef8ebc5f54165",
              "IPY_MODEL_69924432155b46e7984e3a84e3817694"
            ]
          }
        },
        "0559c02d65ed45b490e7ef8cd380be8d": {
          "model_module": "@jupyter-widgets/base",
          "model_name": "LayoutModel",
          "state": {
            "_view_name": "LayoutView",
            "grid_template_rows": null,
            "right": null,
            "justify_content": null,
            "_view_module": "@jupyter-widgets/base",
            "overflow": null,
            "_model_module_version": "1.2.0",
            "_view_count": null,
            "flex_flow": null,
            "width": null,
            "min_width": null,
            "border": null,
            "align_items": null,
            "bottom": null,
            "_model_module": "@jupyter-widgets/base",
            "top": null,
            "grid_column": null,
            "overflow_y": null,
            "overflow_x": null,
            "grid_auto_flow": null,
            "grid_area": null,
            "grid_template_columns": null,
            "flex": null,
            "_model_name": "LayoutModel",
            "justify_items": null,
            "grid_row": null,
            "max_height": null,
            "align_content": null,
            "visibility": null,
            "align_self": null,
            "height": null,
            "min_height": null,
            "padding": null,
            "grid_auto_rows": null,
            "grid_gap": null,
            "max_width": null,
            "order": null,
            "_view_module_version": "1.2.0",
            "grid_template_areas": null,
            "object_position": null,
            "object_fit": null,
            "grid_auto_columns": null,
            "margin": null,
            "display": null,
            "left": null
          }
        },
        "aad664e0a9114fb5b60ef8ebc5f54165": {
          "model_module": "@jupyter-widgets/controls",
          "model_name": "FloatProgressModel",
          "state": {
            "_view_name": "ProgressView",
            "style": "IPY_MODEL_543be1e388404831955ddd1bec7088d4",
            "_dom_classes": [],
            "description": "100%",
            "_model_name": "FloatProgressModel",
            "bar_style": "success",
            "max": 30,
            "_view_module": "@jupyter-widgets/controls",
            "_model_module_version": "1.5.0",
            "value": 30,
            "_view_count": null,
            "_view_module_version": "1.5.0",
            "orientation": "horizontal",
            "min": 0,
            "description_tooltip": null,
            "_model_module": "@jupyter-widgets/controls",
            "layout": "IPY_MODEL_478ac500305f4991a4bbdcfd9928ff4b"
          }
        },
        "69924432155b46e7984e3a84e3817694": {
          "model_module": "@jupyter-widgets/controls",
          "model_name": "HTMLModel",
          "state": {
            "_view_name": "HTMLView",
            "style": "IPY_MODEL_e6618cff237c441c8850a8df8b595e28",
            "_dom_classes": [],
            "description": "",
            "_model_name": "HTMLModel",
            "placeholder": "​",
            "_view_module": "@jupyter-widgets/controls",
            "_model_module_version": "1.5.0",
            "value": " 30/30 [05:15&lt;00:00, 10.51s/it]",
            "_view_count": null,
            "_view_module_version": "1.5.0",
            "description_tooltip": null,
            "_model_module": "@jupyter-widgets/controls",
            "layout": "IPY_MODEL_166b6acd88644c06b103cd8a1a580eaa"
          }
        },
        "543be1e388404831955ddd1bec7088d4": {
          "model_module": "@jupyter-widgets/controls",
          "model_name": "ProgressStyleModel",
          "state": {
            "_view_name": "StyleView",
            "_model_name": "ProgressStyleModel",
            "description_width": "initial",
            "_view_module": "@jupyter-widgets/base",
            "_model_module_version": "1.5.0",
            "_view_count": null,
            "_view_module_version": "1.2.0",
            "bar_color": null,
            "_model_module": "@jupyter-widgets/controls"
          }
        },
        "478ac500305f4991a4bbdcfd9928ff4b": {
          "model_module": "@jupyter-widgets/base",
          "model_name": "LayoutModel",
          "state": {
            "_view_name": "LayoutView",
            "grid_template_rows": null,
            "right": null,
            "justify_content": null,
            "_view_module": "@jupyter-widgets/base",
            "overflow": null,
            "_model_module_version": "1.2.0",
            "_view_count": null,
            "flex_flow": null,
            "width": null,
            "min_width": null,
            "border": null,
            "align_items": null,
            "bottom": null,
            "_model_module": "@jupyter-widgets/base",
            "top": null,
            "grid_column": null,
            "overflow_y": null,
            "overflow_x": null,
            "grid_auto_flow": null,
            "grid_area": null,
            "grid_template_columns": null,
            "flex": null,
            "_model_name": "LayoutModel",
            "justify_items": null,
            "grid_row": null,
            "max_height": null,
            "align_content": null,
            "visibility": null,
            "align_self": null,
            "height": null,
            "min_height": null,
            "padding": null,
            "grid_auto_rows": null,
            "grid_gap": null,
            "max_width": null,
            "order": null,
            "_view_module_version": "1.2.0",
            "grid_template_areas": null,
            "object_position": null,
            "object_fit": null,
            "grid_auto_columns": null,
            "margin": null,
            "display": null,
            "left": null
          }
        },
        "e6618cff237c441c8850a8df8b595e28": {
          "model_module": "@jupyter-widgets/controls",
          "model_name": "DescriptionStyleModel",
          "state": {
            "_view_name": "StyleView",
            "_model_name": "DescriptionStyleModel",
            "description_width": "",
            "_view_module": "@jupyter-widgets/base",
            "_model_module_version": "1.5.0",
            "_view_count": null,
            "_view_module_version": "1.2.0",
            "_model_module": "@jupyter-widgets/controls"
          }
        },
        "166b6acd88644c06b103cd8a1a580eaa": {
          "model_module": "@jupyter-widgets/base",
          "model_name": "LayoutModel",
          "state": {
            "_view_name": "LayoutView",
            "grid_template_rows": null,
            "right": null,
            "justify_content": null,
            "_view_module": "@jupyter-widgets/base",
            "overflow": null,
            "_model_module_version": "1.2.0",
            "_view_count": null,
            "flex_flow": null,
            "width": null,
            "min_width": null,
            "border": null,
            "align_items": null,
            "bottom": null,
            "_model_module": "@jupyter-widgets/base",
            "top": null,
            "grid_column": null,
            "overflow_y": null,
            "overflow_x": null,
            "grid_auto_flow": null,
            "grid_area": null,
            "grid_template_columns": null,
            "flex": null,
            "_model_name": "LayoutModel",
            "justify_items": null,
            "grid_row": null,
            "max_height": null,
            "align_content": null,
            "visibility": null,
            "align_self": null,
            "height": null,
            "min_height": null,
            "padding": null,
            "grid_auto_rows": null,
            "grid_gap": null,
            "max_width": null,
            "order": null,
            "_view_module_version": "1.2.0",
            "grid_template_areas": null,
            "object_position": null,
            "object_fit": null,
            "grid_auto_columns": null,
            "margin": null,
            "display": null,
            "left": null
          }
        },
        "dc3496f3b9ba4c039d1282dfedd7eda2": {
          "model_module": "@jupyter-widgets/controls",
          "model_name": "HBoxModel",
          "state": {
            "_view_name": "HBoxView",
            "_dom_classes": [],
            "_model_name": "HBoxModel",
            "_view_module": "@jupyter-widgets/controls",
            "_model_module_version": "1.5.0",
            "_view_count": null,
            "_view_module_version": "1.5.0",
            "box_style": "",
            "layout": "IPY_MODEL_58d5c78560eb4bccb05632e27e6af357",
            "_model_module": "@jupyter-widgets/controls",
            "children": [
              "IPY_MODEL_5a0ce0de6a08460399569d42cb0dec87",
              "IPY_MODEL_f798a16af4d049799b72b6f6e1ab234c"
            ]
          }
        },
        "58d5c78560eb4bccb05632e27e6af357": {
          "model_module": "@jupyter-widgets/base",
          "model_name": "LayoutModel",
          "state": {
            "_view_name": "LayoutView",
            "grid_template_rows": null,
            "right": null,
            "justify_content": null,
            "_view_module": "@jupyter-widgets/base",
            "overflow": null,
            "_model_module_version": "1.2.0",
            "_view_count": null,
            "flex_flow": null,
            "width": null,
            "min_width": null,
            "border": null,
            "align_items": null,
            "bottom": null,
            "_model_module": "@jupyter-widgets/base",
            "top": null,
            "grid_column": null,
            "overflow_y": null,
            "overflow_x": null,
            "grid_auto_flow": null,
            "grid_area": null,
            "grid_template_columns": null,
            "flex": null,
            "_model_name": "LayoutModel",
            "justify_items": null,
            "grid_row": null,
            "max_height": null,
            "align_content": null,
            "visibility": null,
            "align_self": null,
            "height": null,
            "min_height": null,
            "padding": null,
            "grid_auto_rows": null,
            "grid_gap": null,
            "max_width": null,
            "order": null,
            "_view_module_version": "1.2.0",
            "grid_template_areas": null,
            "object_position": null,
            "object_fit": null,
            "grid_auto_columns": null,
            "margin": null,
            "display": null,
            "left": null
          }
        },
        "5a0ce0de6a08460399569d42cb0dec87": {
          "model_module": "@jupyter-widgets/controls",
          "model_name": "FloatProgressModel",
          "state": {
            "_view_name": "ProgressView",
            "style": "IPY_MODEL_e57b0da9141a4fa1b59a1c0d3708db46",
            "_dom_classes": [],
            "description": "100%",
            "_model_name": "FloatProgressModel",
            "bar_style": "success",
            "max": 30,
            "_view_module": "@jupyter-widgets/controls",
            "_model_module_version": "1.5.0",
            "value": 30,
            "_view_count": null,
            "_view_module_version": "1.5.0",
            "orientation": "horizontal",
            "min": 0,
            "description_tooltip": null,
            "_model_module": "@jupyter-widgets/controls",
            "layout": "IPY_MODEL_607dbc4205454246afd78ff74475a710"
          }
        },
        "f798a16af4d049799b72b6f6e1ab234c": {
          "model_module": "@jupyter-widgets/controls",
          "model_name": "HTMLModel",
          "state": {
            "_view_name": "HTMLView",
            "style": "IPY_MODEL_2cd355b0bfb74cb68a496d9ffbae20d8",
            "_dom_classes": [],
            "description": "",
            "_model_name": "HTMLModel",
            "placeholder": "​",
            "_view_module": "@jupyter-widgets/controls",
            "_model_module_version": "1.5.0",
            "value": " 30/30 [03:44&lt;00:00,  7.48s/it]",
            "_view_count": null,
            "_view_module_version": "1.5.0",
            "description_tooltip": null,
            "_model_module": "@jupyter-widgets/controls",
            "layout": "IPY_MODEL_e423ef28a23e4e308f747dafd8920cfe"
          }
        },
        "e57b0da9141a4fa1b59a1c0d3708db46": {
          "model_module": "@jupyter-widgets/controls",
          "model_name": "ProgressStyleModel",
          "state": {
            "_view_name": "StyleView",
            "_model_name": "ProgressStyleModel",
            "description_width": "initial",
            "_view_module": "@jupyter-widgets/base",
            "_model_module_version": "1.5.0",
            "_view_count": null,
            "_view_module_version": "1.2.0",
            "bar_color": null,
            "_model_module": "@jupyter-widgets/controls"
          }
        },
        "607dbc4205454246afd78ff74475a710": {
          "model_module": "@jupyter-widgets/base",
          "model_name": "LayoutModel",
          "state": {
            "_view_name": "LayoutView",
            "grid_template_rows": null,
            "right": null,
            "justify_content": null,
            "_view_module": "@jupyter-widgets/base",
            "overflow": null,
            "_model_module_version": "1.2.0",
            "_view_count": null,
            "flex_flow": null,
            "width": null,
            "min_width": null,
            "border": null,
            "align_items": null,
            "bottom": null,
            "_model_module": "@jupyter-widgets/base",
            "top": null,
            "grid_column": null,
            "overflow_y": null,
            "overflow_x": null,
            "grid_auto_flow": null,
            "grid_area": null,
            "grid_template_columns": null,
            "flex": null,
            "_model_name": "LayoutModel",
            "justify_items": null,
            "grid_row": null,
            "max_height": null,
            "align_content": null,
            "visibility": null,
            "align_self": null,
            "height": null,
            "min_height": null,
            "padding": null,
            "grid_auto_rows": null,
            "grid_gap": null,
            "max_width": null,
            "order": null,
            "_view_module_version": "1.2.0",
            "grid_template_areas": null,
            "object_position": null,
            "object_fit": null,
            "grid_auto_columns": null,
            "margin": null,
            "display": null,
            "left": null
          }
        },
        "2cd355b0bfb74cb68a496d9ffbae20d8": {
          "model_module": "@jupyter-widgets/controls",
          "model_name": "DescriptionStyleModel",
          "state": {
            "_view_name": "StyleView",
            "_model_name": "DescriptionStyleModel",
            "description_width": "",
            "_view_module": "@jupyter-widgets/base",
            "_model_module_version": "1.5.0",
            "_view_count": null,
            "_view_module_version": "1.2.0",
            "_model_module": "@jupyter-widgets/controls"
          }
        },
        "e423ef28a23e4e308f747dafd8920cfe": {
          "model_module": "@jupyter-widgets/base",
          "model_name": "LayoutModel",
          "state": {
            "_view_name": "LayoutView",
            "grid_template_rows": null,
            "right": null,
            "justify_content": null,
            "_view_module": "@jupyter-widgets/base",
            "overflow": null,
            "_model_module_version": "1.2.0",
            "_view_count": null,
            "flex_flow": null,
            "width": null,
            "min_width": null,
            "border": null,
            "align_items": null,
            "bottom": null,
            "_model_module": "@jupyter-widgets/base",
            "top": null,
            "grid_column": null,
            "overflow_y": null,
            "overflow_x": null,
            "grid_auto_flow": null,
            "grid_area": null,
            "grid_template_columns": null,
            "flex": null,
            "_model_name": "LayoutModel",
            "justify_items": null,
            "grid_row": null,
            "max_height": null,
            "align_content": null,
            "visibility": null,
            "align_self": null,
            "height": null,
            "min_height": null,
            "padding": null,
            "grid_auto_rows": null,
            "grid_gap": null,
            "max_width": null,
            "order": null,
            "_view_module_version": "1.2.0",
            "grid_template_areas": null,
            "object_position": null,
            "object_fit": null,
            "grid_auto_columns": null,
            "margin": null,
            "display": null,
            "left": null
          }
        }
      }
    }
  },
  "cells": [
    {
      "cell_type": "markdown",
      "metadata": {
        "id": "view-in-github",
        "colab_type": "text"
      },
      "source": [
        "<a href=\"https://colab.research.google.com/github/prashun07/Detecting-and-Localizing-pneumonia-/blob/master/VGG16Model.ipynb\" target=\"_parent\"><img src=\"https://colab.research.google.com/assets/colab-badge.svg\" alt=\"Open In Colab\"/></a>"
      ]
    },
    {
      "cell_type": "markdown",
      "metadata": {
        "id": "ugREpC2CKkkI"
      },
      "source": [
        "#Detecting pneumonia using pretrained **vgg16** **model**"
      ]
    },
    {
      "cell_type": "markdown",
      "metadata": {
        "id": "nhrlX8JtKxAp"
      },
      "source": [
        "#**Import** **Utilities**"
      ]
    },
    {
      "cell_type": "code",
      "metadata": {
        "id": "8vnz1IK1eyC_"
      },
      "source": [
        "#These are some basic Utilites we will need.\r\n",
        "import os #To handle dataset\r\n",
        "import torch\r\n",
        "import torchvision\r\n",
        "import torch.nn as nn\r\n",
        "import torch.nn.functional as F\r\n",
        "\r\n",
        "from torchvision.datasets import ImageFolder #to load data from folder\r\n",
        "from torch.utils.data import DataLoader \r\n",
        "import torchvision.transforms as tt #to tansform image into tensors\r\n",
        "from torch.utils.data import random_split #for spliting dataset into train and validation set\r\n",
        "from torchvision.utils import make_grid \r\n",
        "\r\n",
        "#to draw images in notebook\r\n",
        "import numpy as np\r\n",
        "import pandas as pd\r\n",
        "import seaborn as sns\r\n",
        "import matplotlib\r\n",
        "import matplotlib.pyplot as plt\r\n",
        "%matplotlib inline\r\n",
        "matplotlib.rcParams['figure.facecolor'] = '#ffffff'"
      ],
      "execution_count": 1,
      "outputs": []
    },
    {
      "cell_type": "code",
      "metadata": {
        "id": "WQReHi9wfLaw"
      },
      "source": [
        "!pip install opendatasets --upgrade --quiet\r\n",
        "import opendatasets as od"
      ],
      "execution_count": 2,
      "outputs": []
    },
    {
      "cell_type": "code",
      "metadata": {
        "colab": {
          "base_uri": "https://localhost:8080/"
        },
        "id": "euTx8oc2fhM2",
        "outputId": "604c0211-0ef4-4d41-c90c-e8536ec6d12c"
      },
      "source": [
        "dataset_url='https://www.kaggle.com/paultimothymooney/chest-xray-pneumonia'\r\n",
        "od.download(dataset_url)"
      ],
      "execution_count": 4,
      "outputs": [
        {
          "output_type": "stream",
          "text": [
            "  0%|          | 8.00M/2.29G [00:00<00:29, 83.0MB/s]"
          ],
          "name": "stderr"
        },
        {
          "output_type": "stream",
          "text": [
            "Downloading chest-xray-pneumonia.zip to ./chest-xray-pneumonia\n"
          ],
          "name": "stdout"
        },
        {
          "output_type": "stream",
          "text": [
            "100%|██████████| 2.29G/2.29G [00:32<00:00, 76.4MB/s]\n"
          ],
          "name": "stderr"
        },
        {
          "output_type": "stream",
          "text": [
            "\n"
          ],
          "name": "stdout"
        }
      ]
    },
    {
      "cell_type": "code",
      "metadata": {
        "id": "_sWRe6BQflTD"
      },
      "source": [
        "data_dir='/content/chest-xray-pneumonia/chest_xray/train'"
      ],
      "execution_count": 5,
      "outputs": []
    },
    {
      "cell_type": "code",
      "metadata": {
        "colab": {
          "base_uri": "https://localhost:8080/"
        },
        "id": "XvHoFyxngJVN",
        "outputId": "28237310-a04e-414c-c182-02e58246defa"
      },
      "source": [
        "os.listdir(data_dir)"
      ],
      "execution_count": 6,
      "outputs": [
        {
          "output_type": "execute_result",
          "data": {
            "text/plain": [
              "['PNEUMONIA', 'NORMAL']"
            ]
          },
          "metadata": {
            "tags": []
          },
          "execution_count": 6
        }
      ]
    },
    {
      "cell_type": "code",
      "metadata": {
        "id": "ILFaZ0qKgMu2"
      },
      "source": [
        "dataset=ImageFolder(data_dir)"
      ],
      "execution_count": 7,
      "outputs": []
    },
    {
      "cell_type": "code",
      "metadata": {
        "colab": {
          "base_uri": "https://localhost:8080/"
        },
        "id": "zU-U0ayYgwqE",
        "outputId": "e93ea4c1-8893-4397-a56c-739e317e9990"
      },
      "source": [
        "dataset.classes"
      ],
      "execution_count": 8,
      "outputs": [
        {
          "output_type": "execute_result",
          "data": {
            "text/plain": [
              "['NORMAL', 'PNEUMONIA']"
            ]
          },
          "metadata": {
            "tags": []
          },
          "execution_count": 8
        }
      ]
    },
    {
      "cell_type": "code",
      "metadata": {
        "colab": {
          "base_uri": "https://localhost:8080/"
        },
        "id": "9HsHke8xhRDc",
        "outputId": "0aca2416-0d26-49eb-f142-74ec81d61a13"
      },
      "source": [
        "len(dataset)"
      ],
      "execution_count": 9,
      "outputs": [
        {
          "output_type": "execute_result",
          "data": {
            "text/plain": [
              "5216"
            ]
          },
          "metadata": {
            "tags": []
          },
          "execution_count": 9
        }
      ]
    },
    {
      "cell_type": "markdown",
      "metadata": {
        "id": "BWQ1I3xIK3hS"
      },
      "source": [
        "#Explore Data"
      ]
    },
    {
      "cell_type": "code",
      "metadata": {
        "colab": {
          "base_uri": "https://localhost:8080/",
          "height": 286
        },
        "id": "enZdCnqZhW5u",
        "outputId": "52367c12-11ff-4f7c-a2f2-b1c5705c867e"
      },
      "source": [
        "# number of images for each class\r\n",
        "\r\n",
        "train_samplesize = pd.DataFrame.from_dict(\r\n",
        "    {'Normal': [len([os.path.join(data_dir+'/NORMAL', filename) \r\n",
        "                     for filename in os.listdir(data_dir+'/NORMAL')])], \r\n",
        "     'Pneumonia': [len([os.path.join(data_dir+'/PNEUMONIA', filename) \r\n",
        "                        for filename in os.listdir(data_dir+'/PNEUMONIA')])]})\r\n",
        "\r\n",
        "\r\n",
        "sns.barplot(data=train_samplesize).set_title('Training Set Data Inbalance', fontsize=20)\r\n",
        "plt.show()"
      ],
      "execution_count": 10,
      "outputs": [
        {
          "output_type": "display_data",
          "data": {
            "image/png": "[encoded data removed]",
            "text/plain": [
              "<Figure size 432x288 with 1 Axes>"
            ]
          },
          "metadata": {
            "tags": [],
            "needs_background": "light"
          }
        }
      ]
    },
    {
      "cell_type": "markdown",
      "metadata": {
        "id": "x-J7gcxMK8gX"
      },
      "source": [
        "#Load data and Convert into tensor"
      ]
    },
    {
      "cell_type": "code",
      "metadata": {
        "id": "ucFgMFLyh_7-"
      },
      "source": [
        "dataset = ImageFolder(data_dir,\r\n",
        "                      transform=tt.Compose([tt.Resize((224,224)),\r\n",
        "                                            #tt.CenterCrop(224),\r\n",
        "                                            tt.RandomHorizontalFlip(),\r\n",
        "                                            tt.RandomRotation(10),\r\n",
        "                                            tt.RandomGrayscale(),\r\n",
        "                                            tt.ToTensor()\r\n",
        "                                           ]))"
      ],
      "execution_count": 11,
      "outputs": []
    },
    {
      "cell_type": "code",
      "metadata": {
        "colab": {
          "base_uri": "https://localhost:8080/"
        },
        "id": "9JyVSO9ciZYu",
        "outputId": "1bdc7cff-8a41-49e2-c7da-a1b9a3bb2d3a"
      },
      "source": [
        "dataset[0]"
      ],
      "execution_count": 12,
      "outputs": [
        {
          "output_type": "execute_result",
          "data": {
            "text/plain": [
              "(tensor([[[0., 0., 0.,  ..., 0., 0., 0.],\n",
              "          [0., 0., 0.,  ..., 0., 0., 0.],\n",
              "          [0., 0., 0.,  ..., 0., 0., 0.],\n",
              "          ...,\n",
              "          [0., 0., 0.,  ..., 0., 0., 0.],\n",
              "          [0., 0., 0.,  ..., 0., 0., 0.],\n",
              "          [0., 0., 0.,  ..., 0., 0., 0.]],\n",
              " \n",
              "         [[0., 0., 0.,  ..., 0., 0., 0.],\n",
              "          [0., 0., 0.,  ..., 0., 0., 0.],\n",
              "          [0., 0., 0.,  ..., 0., 0., 0.],\n",
              "          ...,\n",
              "          [0., 0., 0.,  ..., 0., 0., 0.],\n",
              "          [0., 0., 0.,  ..., 0., 0., 0.],\n",
              "          [0., 0., 0.,  ..., 0., 0., 0.]],\n",
              " \n",
              "         [[0., 0., 0.,  ..., 0., 0., 0.],\n",
              "          [0., 0., 0.,  ..., 0., 0., 0.],\n",
              "          [0., 0., 0.,  ..., 0., 0., 0.],\n",
              "          ...,\n",
              "          [0., 0., 0.,  ..., 0., 0., 0.],\n",
              "          [0., 0., 0.,  ..., 0., 0., 0.],\n",
              "          [0., 0., 0.,  ..., 0., 0., 0.]]]), 0)"
            ]
          },
          "metadata": {
            "tags": []
          },
          "execution_count": 12
        }
      ]
    },
    {
      "cell_type": "code",
      "metadata": {
        "colab": {
          "base_uri": "https://localhost:8080/",
          "height": 320
        },
        "id": "86PeUNgWidiY",
        "outputId": "0d2720aa-6607-402b-e5e5-93a3db5aa2ac"
      },
      "source": [
        "img,label=dataset[0]\r\n",
        "print(img.shape)\r\n",
        "print(img.permute(1,2,0).shape)\r\n",
        "plt.imshow(img.permute(1,2,0))\r\n",
        "print(label)"
      ],
      "execution_count": 13,
      "outputs": [
        {
          "output_type": "stream",
          "text": [
            "torch.Size([3, 224, 224])\n",
            "torch.Size([224, 224, 3])\n",
            "0\n"
          ],
          "name": "stdout"
        },
        {
          "output_type": "display_data",
          "data": {
            "image/png": "[encoded data removed]",
            "text/plain": [
              "<Figure size 432x288 with 1 Axes>"
            ]
          },
          "metadata": {
            "tags": [],
            "needs_background": "light"
          }
        }
      ]
    },
    {
      "cell_type": "code",
      "metadata": {
        "colab": {
          "base_uri": "https://localhost:8080/"
        },
        "id": "oTt4_gMS2Gks",
        "outputId": "969c12cd-5a5b-4894-a338-dc573ac6d73c"
      },
      "source": [
        "#split dataset in train and validation dataset\r\n",
        "val_size=1500\r\n",
        "train_size=len(dataset)-val_size\r\n",
        "train_data,val_data=random_split(dataset,[train_size,val_size])\r\n",
        "len(train_data),len(val_data)"
      ],
      "execution_count": 14,
      "outputs": [
        {
          "output_type": "execute_result",
          "data": {
            "text/plain": [
              "(3716, 1500)"
            ]
          },
          "metadata": {
            "tags": []
          },
          "execution_count": 14
        }
      ]
    },
    {
      "cell_type": "code",
      "metadata": {
        "id": "d2MsTg9hinuF"
      },
      "source": [
        "batch_size=128\r\n",
        "train_dl=DataLoader(train_data,batch_size=batch_size,shuffle=True,num_workers=4,pin_memory=True)\r\n",
        "val_dl = DataLoader(val_data, batch_size*2, num_workers=4, pin_memory=True)"
      ],
      "execution_count": 15,
      "outputs": []
    },
    {
      "cell_type": "markdown",
      "metadata": {
        "id": "5zJ8-YF5LIUg"
      },
      "source": [
        "#Model\r\n",
        "VGG model:\r\n",
        "\r\n",
        "![0_ttVR8N2AUiTcLGij.png](data:image/png;base64,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)"
      ]
    },
    {
      "cell_type": "code",
      "metadata": {
        "id": "pTV6up1ttNrJ"
      },
      "source": [
        "class ImageClassificationBase(nn.Module):\r\n",
        "    def training_step(self, batch):\r\n",
        "        images, labels = batch \r\n",
        "        out = self(images)                  # Generate predictions\r\n",
        "        loss = F.cross_entropy(out, labels) # Calculate loss\r\n",
        "        return loss\r\n",
        "    \r\n",
        "    def validation_step(self, batch):\r\n",
        "        images, labels = batch \r\n",
        "        out = self(images)                    # Generate predictions\r\n",
        "        loss = F.cross_entropy(out, labels)   # Calculate loss\r\n",
        "        acc = accuracy(out, labels)           # Calculate accuracy\r\n",
        "        return {'val_loss': loss.detach(), 'val_acc': acc}\r\n",
        "        \r\n",
        "    def validation_epoch_end(self, outputs):\r\n",
        "        batch_losses = [x['val_loss'] for x in outputs]\r\n",
        "        epoch_loss = torch.stack(batch_losses).mean()   # Combine losses\r\n",
        "        batch_accs = [x['val_acc'] for x in outputs]\r\n",
        "        epoch_acc = torch.stack(batch_accs).mean()      # Combine accuracies\r\n",
        "        return {'val_loss': epoch_loss.item(), 'val_acc': epoch_acc.item()}\r\n",
        "    \r\n",
        "    def epoch_end(self, epoch, result):\r\n",
        "        print(\"Epoch [{}], train_loss: {:.4f}, val_loss: {:.4f}, val_acc: {:.4f}\".format(\r\n",
        "            epoch, result['train_loss'], result['val_loss'], result['val_acc']))\r\n",
        "        \r\n",
        "def accuracy(outputs, labels):\r\n",
        "    _, preds = torch.max(outputs, dim=1)\r\n",
        "    return torch.tensor(torch.sum(preds == labels).item() / len(preds))"
      ],
      "execution_count": 16,
      "outputs": []
    },
    {
      "cell_type": "code",
      "metadata": {
        "id": "3N6Uzj8Nn1e1"
      },
      "source": [
        "from torchvision import models\r\n",
        "class VGG(ImageClassificationBase):\r\n",
        "    def __init__(self):\r\n",
        "        super(VGG, self).__init__()\r\n",
        "        \r\n",
        "        # get the pretrained VGG16 network\r\n",
        "        self.vgg16=models.vgg16(pretrained=True)\r\n",
        "        \r\n",
        "    def forward(self, x):\r\n",
        "        x = self.vgg16(x)\r\n",
        "        return x\r\n"
      ],
      "execution_count": 17,
      "outputs": []
    },
    {
      "cell_type": "code",
      "metadata": {
        "colab": {
          "base_uri": "https://localhost:8080/",
          "height": 83,
          "referenced_widgets": [
            "5cecb208f24b4364b097579f60ff97dd",
            "c00fe49426614809b1a90d31502d0b9a",
            "eeb875a7505c43eda1a8c3a0e878b8b7",
            "bcba7a77592245658cd2d04b798bd90f",
            "a7fe48906532431086ae92305cacda52",
            "a50ffeff3e8445468d00e2336db73052",
            "7ac019345c484739b2657ef17e04b1a0",
            "4ac284e18bf84a8b89ae34643a44161e"
          ]
        },
        "id": "iNP5gjeCoNgZ",
        "outputId": "55dd084a-e426-4512-89a5-0d5e778d0113"
      },
      "source": [
        "model=VGG()"
      ],
      "execution_count": 18,
      "outputs": [
        {
          "output_type": "stream",
          "text": [
            "Downloading: \"https://download.pytorch.org/models/vgg16-397923af.pth\" to /root/.cache/torch/hub/checkpoints/vgg16-397923af.pth\n"
          ],
          "name": "stderr"
        },
        {
          "output_type": "display_data",
          "data": {
            "application/vnd.jupyter.widget-view+json": {
              "model_id": "5cecb208f24b4364b097579f60ff97dd",
              "version_minor": 0,
              "version_major": 2
            },
            "text/plain": [
              "HBox(children=(FloatProgress(value=0.0, max=553433881.0), HTML(value='')))"
            ]
          },
          "metadata": {
            "tags": []
          }
        },
        {
          "output_type": "stream",
          "text": [
            "\n"
          ],
          "name": "stdout"
        }
      ]
    },
    {
      "cell_type": "markdown",
      "metadata": {
        "id": "cuSEwnIPLMbE"
      },
      "source": [
        "#Training Utilities"
      ]
    },
    {
      "cell_type": "code",
      "metadata": {
        "id": "y9IIQAsEzuIP"
      },
      "source": [
        "import torch\r\n",
        "from tqdm.notebook import tqdm\r\n",
        "\r\n",
        "@torch.no_grad()\r\n",
        "def evaluate(model, val_loader):\r\n",
        "    model.eval()\r\n",
        "    outputs = [model.validation_step(batch) for batch in val_loader]\r\n",
        "    return model.validation_epoch_end(outputs)\r\n",
        "\r\n",
        "\r\n",
        "def fit(epochs, lr, model, train_loader, val_loader, opt_func=torch.optim.SGD):\r\n",
        "    history = []\r\n",
        "    optimizer = opt_func(model.parameters(), lr)\r\n",
        "    for epoch in range(epochs):\r\n",
        "        # Training Phase\r\n",
        "        model.train()\r\n",
        "        train_losses = []\r\n",
        "        for batch in tqdm(train_loader):\r\n",
        "            loss = model.training_step(batch)\r\n",
        "            train_losses.append(loss)\r\n",
        "            loss.backward()\r\n",
        "            optimizer.step()\r\n",
        "            optimizer.zero_grad()\r\n",
        "        # Validation phase\r\n",
        "        result = evaluate(model, val_loader)\r\n",
        "        result['train_loss'] = torch.stack(train_losses).mean().item()\r\n",
        "        model.epoch_end(epoch, result)\r\n",
        "        history.append(result)\r\n",
        "    return history\r\n",
        "\r\n",
        "def get_lr(optimizer):\r\n",
        "    for param_group in optimizer.param_groups:\r\n",
        "        return param_group['lr']\r\n",
        "\r\n",
        "def fit_one_cycle(epochs, max_lr, model, train_loader, val_loader,\r\n",
        "                  weight_decay=0, grad_clip=None, opt_func=torch.optim.SGD):\r\n",
        "    torch.cuda.empty_cache()\r\n",
        "    history = []\r\n",
        "\r\n",
        "    # Set up custom optimizer with weight decay\r\n",
        "    optimizer = opt_func(model.parameters(), max_lr, weight_decay=weight_decay)\r\n",
        "    # Set up one-cycle learning rate scheduler\r\n",
        "    sched = torch.optim.lr_scheduler.OneCycleLR(optimizer, max_lr, epochs=epochs,\r\n",
        "                                                steps_per_epoch=len(train_loader))\r\n",
        "\r\n",
        "    for epoch in range(epochs):\r\n",
        "        # Training Phase\r\n",
        "        model.train()\r\n",
        "        train_losses = []\r\n",
        "        lrs = []\r\n",
        "        for batch in tqdm(train_loader):\r\n",
        "            loss = model.training_step(batch)\r\n",
        "            train_losses.append(loss)\r\n",
        "            loss.backward()\r\n",
        "\r\n",
        "            # Gradient clipping\r\n",
        "            if grad_clip:\r\n",
        "                nn.utils.clip_grad_value_(model.parameters(), grad_clip)\r\n",
        "\r\n",
        "            optimizer.step()\r\n",
        "            optimizer.zero_grad()\r\n",
        "\r\n",
        "            # Record & update learning rate\r\n",
        "            lrs.append(get_lr(optimizer))\r\n",
        "            sched.step()\r\n",
        "\r\n",
        "        # Validation phase\r\n",
        "        result = evaluate(model, val_loader)\r\n",
        "        result['train_loss'] = torch.stack(train_losses).mean().item()\r\n",
        "        result['lrs'] = lrs\r\n",
        "        model.epoch_end(epoch, result)\r\n",
        "        history.append(result)\r\n",
        "    return history"
      ],
      "execution_count": 19,
      "outputs": []
    },
    {
      "cell_type": "markdown",
      "metadata": {
        "id": "xx0DILtOLQTq"
      },
      "source": [
        "Gpu functions"
      ]
    },
    {
      "cell_type": "code",
      "metadata": {
        "id": "Z0Ql5QUkzvpJ"
      },
      "source": [
        "def get_default_device():\r\n",
        "    \"\"\"Pick GPU if available, else CPU\"\"\"\r\n",
        "    if torch.cuda.is_available():\r\n",
        "        return torch.device('cuda')\r\n",
        "    else:\r\n",
        "        return torch.device('cpu')\r\n",
        "    \r\n",
        "def to_device(data, device):\r\n",
        "    \"\"\"Move tensor(s) to chosen device\"\"\"\r\n",
        "    if isinstance(data, (list,tuple)):\r\n",
        "        return [to_device(x, device) for x in data]\r\n",
        "    return data.to(device, non_blocking=True)\r\n",
        "\r\n",
        "class DeviceDataLoader():\r\n",
        "    \"\"\"Wrap a dataloader to move data to a device\"\"\"\r\n",
        "    def __init__(self, dl, device):\r\n",
        "        self.dl = dl\r\n",
        "        self.device = device\r\n",
        "        \r\n",
        "    def __iter__(self):\r\n",
        "        \"\"\"Yield a batch of data after moving it to device\"\"\"\r\n",
        "        for b in self.dl: \r\n",
        "            yield to_device(b, self.device)\r\n",
        "\r\n",
        "    def __len__(self):\r\n",
        "        \"\"\"Number of batches\"\"\"\r\n",
        "        return len(self.dl)"
      ],
      "execution_count": 20,
      "outputs": []
    },
    {
      "cell_type": "code",
      "metadata": {
        "colab": {
          "base_uri": "https://localhost:8080/"
        },
        "id": "r6_6AFIh0LES",
        "outputId": "d15fa3a2-ea03-4864-f7f5-edb36ad2e5e9"
      },
      "source": [
        "\r\n",
        "device = get_default_device()\r\n",
        "device"
      ],
      "execution_count": 21,
      "outputs": [
        {
          "output_type": "execute_result",
          "data": {
            "text/plain": [
              "device(type='cuda')"
            ]
          },
          "metadata": {
            "tags": []
          },
          "execution_count": 21
        }
      ]
    },
    {
      "cell_type": "code",
      "metadata": {
        "id": "XuyeFZWbz9ZM"
      },
      "source": [
        "\r\n",
        "#Load data into GPU\r\n",
        "train_dl = DeviceDataLoader(train_dl, device)\r\n",
        "val_dl=DeviceDataLoader(val_dl, device)"
      ],
      "execution_count": 22,
      "outputs": []
    },
    {
      "cell_type": "code",
      "metadata": {
        "id": "kyScUBCX0BGk"
      },
      "source": [
        "to_device(model, device);"
      ],
      "execution_count": 23,
      "outputs": []
    },
    {
      "cell_type": "code",
      "metadata": {
        "colab": {
          "base_uri": "https://localhost:8080/"
        },
        "id": "kH5_2JU_tghb",
        "outputId": "72458104-4eb5-4ef9-8896-8114ee420913"
      },
      "source": [
        "history = [evaluate(model, val_dl)]\r\n",
        "history"
      ],
      "execution_count": 24,
      "outputs": [
        {
          "output_type": "execute_result",
          "data": {
            "text/plain": [
              "[{'val_acc': 0.0, 'val_loss': 8.453836441040039}]"
            ]
          },
          "metadata": {
            "tags": []
          },
          "execution_count": 24
        }
      ]
    },
    {
      "cell_type": "markdown",
      "metadata": {
        "id": "eVZfz34pLUKN"
      },
      "source": [
        "#Training Model"
      ]
    },
    {
      "cell_type": "code",
      "metadata": {
        "id": "57zG7hJ283H_"
      },
      "source": [
        "epochs = 10\r\n",
        "max_lr = 0.001\r\n",
        "grad_clip = 0.1\r\n",
        "weight_decay = 1e-4\r\n",
        "opt_func = torch.optim.Adam"
      ],
      "execution_count": 25,
      "outputs": []
    },
    {
      "cell_type": "code",
      "metadata": {
        "colab": {
          "base_uri": "https://localhost:8080/",
          "height": 711,
          "referenced_widgets": [
            "3799119dce0c416fb63a9fe34faebcd3",
            "b691d3211a204b22bee443f7a54aa4d0",
            "c1e03cbbf574415982fae29de0fbaa34",
            "e3fb93f1c8ed417db281fb47c39c548a",
            "d9f5e978f96e4fff9710078e9950103b",
            "1b3c997005f6498ab69960d0f45f59a5",
            "40ada78123494792815b41dc1220cac3",
            "e17791954ccf4f4985190144f64a7207",
            "863955db443f4279b6710a13ac9612de",
            "c5b005c8d1104eca8c9fc97ab1fe202a",
            "f42e480672694aa79951c42e57038d24",
            "b0eb77b0afc643a2bc4a6c85a92e001f",
            "ad7839e91098497c85a8ad8278172a1b",
            "ec8f08a610554342ade135a69c3b1e91",
            "e6af39c07dd6468c8614d81406130b8e",
            "83d9fd73f1a74810bcd5b4bf862f3176",
            "7ad00ee6e8d840a1bbcbd0c0c129ef39",
            "9192bda46da5428dbb25e274e79cac1f",
            "e0d33ff898484a57b3dac6002774d42e",
            "f85687e38b2146eb8af26f24914ede9f",
            "990c570fc018430c90be73c8399e5ab6",
            "0b6c779c2b7945bfba7b6f01ec1048f1",
            "bdcba23d97714acdb3d10f4247c29a2c",
            "f96423cd8a88495e8264f4cd1c7ac7ec",
            "93c35b1ad70a44efa59594ccd3a32ce2",
            "7b49b94f28194b69a2efc3ee9020edcd",
            "86d902b923af487198ee84fe9ef4d2c1",
            "474153a17ac94de49bef5369b1450f76",
            "df260baf942842719f60d78d7ac85f39",
            "25e39f3c17554ec29a1978d4ba6b7d26",
            "13ef1284ad9e4e18a3f6e278978caf99",
            "ddd93816004a444c9a21b14927c26a70",
            "42e75525004e462c97ec3539fa4229e8",
            "f8ff39002fa942b2bdbedc47ec216bbc",
            "2ab42a7f3a884b93ad3d92c180516c1f",
            "b5339f28d99245c78da3c30e31ea69c0",
            "d51a59ed5b2544aab65218197db72af3",
            "3c4144c04deb42e2b4085b777302f5f2",
            "170b05bff5014968b2fba7e1fc99d006",
            "74d5254ff15c48ca9af61aa7fdfe40ea",
            "a680f0d0baee495f8d0c9d599ffd962b",
            "a71df356495d40e4906fd71d893ecd53",
            "f71dd35bd6244f29b89cac300d0c7296",
            "ad75b7c5e7044f92affbef0e581408aa",
            "45805bc0f35e49618eee1731721084e0",
            "04b647c791f34ac5ac9c57130b00af57",
            "354322dcfb5540208de0482c73ed7938",
            "47a08e5a5b88480a9da2935d8edd204e",
            "00fe547ec3c640eb879df2ac970e614d",
            "ae88e25cc8be498a90f7bc4eb277b8f3",
            "64f8eaa6dfaf46ccbdbea65d371abd96",
            "91d3abc68834477e8e223d0d798378c0",
            "2bb1d14fa010460b8a6782d16c7e22ad",
            "21bb5b24db3e433d8fad9d041ec01e8a",
            "0af790fb83fe4b0d92838bede21df60b",
            "bddaa9b6e37d4580b84d20b9ade2708d",
            "5281edd57d0e4561997dcc93a2f95e30",
            "e36abe3607d245f1befef1eedff738d3",
            "ad0bc83fc66d47479bbb3af5f4193ab1",
            "6b16bbcd7a094e10b6320cd3ec647616",
            "84251f5260124bc3b81c8e20a1c20bcc",
            "ad459354befa41ec9a68b533634cb97b",
            "864a363e73c24a66a74c008e13d8b747",
            "6f561b8d4d1f4a74ba15803da805f589",
            "658c40607e0347cca22887d470ddb859",
            "0559c02d65ed45b490e7ef8cd380be8d",
            "aad664e0a9114fb5b60ef8ebc5f54165",
            "69924432155b46e7984e3a84e3817694",
            "543be1e388404831955ddd1bec7088d4",
            "478ac500305f4991a4bbdcfd9928ff4b",
            "e6618cff237c441c8850a8df8b595e28",
            "166b6acd88644c06b103cd8a1a580eaa",
            "dc3496f3b9ba4c039d1282dfedd7eda2",
            "58d5c78560eb4bccb05632e27e6af357",
            "5a0ce0de6a08460399569d42cb0dec87",
            "f798a16af4d049799b72b6f6e1ab234c",
            "e57b0da9141a4fa1b59a1c0d3708db46",
            "607dbc4205454246afd78ff74475a710",
            "2cd355b0bfb74cb68a496d9ffbae20d8",
            "e423ef28a23e4e308f747dafd8920cfe"
          ]
        },
        "id": "cT1yY58oFz8u",
        "outputId": "09aca8b0-3adc-4cc9-80a3-ded237bf0dad"
      },
      "source": [
        "%%time\r\n",
        "history += fit_one_cycle(epochs, max_lr, model, train_dl, val_dl, \r\n",
        "                         grad_clip=grad_clip, \r\n",
        "                         weight_decay=weight_decay, \r\n",
        "                         opt_func=opt_func)"
      ],
      "execution_count": 27,
      "outputs": [
        {
          "output_type": "display_data",
          "data": {
            "application/vnd.jupyter.widget-view+json": {
              "model_id": "3799119dce0c416fb63a9fe34faebcd3",
              "version_minor": 0,
              "version_major": 2
            },
            "text/plain": [
              "HBox(children=(FloatProgress(value=0.0, max=30.0), HTML(value='')))"
            ]
          },
          "metadata": {
            "tags": []
          }
        },
        {
          "output_type": "stream",
          "text": [
            "\n",
            "Epoch [0], train_loss: 0.9722, val_loss: 0.2179, val_acc: 0.9067\n"
          ],
          "name": "stdout"
        },
        {
          "output_type": "display_data",
          "data": {
            "application/vnd.jupyter.widget-view+json": {
              "model_id": "863955db443f4279b6710a13ac9612de",
              "version_minor": 0,
              "version_major": 2
            },
            "text/plain": [
              "HBox(children=(FloatProgress(value=0.0, max=30.0), HTML(value='')))"
            ]
          },
          "metadata": {
            "tags": []
          }
        },
        {
          "output_type": "stream",
          "text": [
            "\n",
            "Epoch [1], train_loss: 0.1668, val_loss: 2.1499, val_acc: 0.7551\n"
          ],
          "name": "stdout"
        },
        {
          "output_type": "display_data",
          "data": {
            "application/vnd.jupyter.widget-view+json": {
              "model_id": "7ad00ee6e8d840a1bbcbd0c0c129ef39",
              "version_minor": 0,
              "version_major": 2
            },
            "text/plain": [
              "HBox(children=(FloatProgress(value=0.0, max=30.0), HTML(value='')))"
            ]
          },
          "metadata": {
            "tags": []
          }
        },
        {
          "output_type": "stream",
          "text": [
            "\n",
            "Epoch [2], train_loss: 1.1788, val_loss: 0.7374, val_acc: 0.7551\n"
          ],
          "name": "stdout"
        },
        {
          "output_type": "display_data",
          "data": {
            "application/vnd.jupyter.widget-view+json": {
              "model_id": "93c35b1ad70a44efa59594ccd3a32ce2",
              "version_minor": 0,
              "version_major": 2
            },
            "text/plain": [
              "HBox(children=(FloatProgress(value=0.0, max=30.0), HTML(value='')))"
            ]
          },
          "metadata": {
            "tags": []
          }
        },
        {
          "output_type": "stream",
          "text": [
            "\n",
            "Epoch [3], train_loss: 0.6777, val_loss: 1.6936, val_acc: 0.2449\n"
          ],
          "name": "stdout"
        },
        {
          "output_type": "display_data",
          "data": {
            "application/vnd.jupyter.widget-view+json": {
              "model_id": "42e75525004e462c97ec3539fa4229e8",
              "version_minor": 0,
              "version_major": 2
            },
            "text/plain": [
              "HBox(children=(FloatProgress(value=0.0, max=30.0), HTML(value='')))"
            ]
          },
          "metadata": {
            "tags": []
          }
        },
        {
          "output_type": "stream",
          "text": [
            "\n",
            "Epoch [4], train_loss: 0.6228, val_loss: 0.4913, val_acc: 0.8428\n"
          ],
          "name": "stdout"
        },
        {
          "output_type": "display_data",
          "data": {
            "application/vnd.jupyter.widget-view+json": {
              "model_id": "a680f0d0baee495f8d0c9d599ffd962b",
              "version_minor": 0,
              "version_major": 2
            },
            "text/plain": [
              "HBox(children=(FloatProgress(value=0.0, max=30.0), HTML(value='')))"
            ]
          },
          "metadata": {
            "tags": []
          }
        },
        {
          "output_type": "stream",
          "text": [
            "\n",
            "Epoch [5], train_loss: 0.4290, val_loss: 0.9549, val_acc: 0.7780\n"
          ],
          "name": "stdout"
        },
        {
          "output_type": "display_data",
          "data": {
            "application/vnd.jupyter.widget-view+json": {
              "model_id": "00fe547ec3c640eb879df2ac970e614d",
              "version_minor": 0,
              "version_major": 2
            },
            "text/plain": [
              "HBox(children=(FloatProgress(value=0.0, max=30.0), HTML(value='')))"
            ]
          },
          "metadata": {
            "tags": []
          }
        },
        {
          "output_type": "stream",
          "text": [
            "\n",
            "Epoch [6], train_loss: 0.2612, val_loss: 0.2090, val_acc: 0.9044\n"
          ],
          "name": "stdout"
        },
        {
          "output_type": "display_data",
          "data": {
            "application/vnd.jupyter.widget-view+json": {
              "model_id": "5281edd57d0e4561997dcc93a2f95e30",
              "version_minor": 0,
              "version_major": 2
            },
            "text/plain": [
              "HBox(children=(FloatProgress(value=0.0, max=30.0), HTML(value='')))"
            ]
          },
          "metadata": {
            "tags": []
          }
        },
        {
          "output_type": "stream",
          "text": [
            "\n",
            "Epoch [7], train_loss: 0.1881, val_loss: 0.1553, val_acc: 0.9394\n"
          ],
          "name": "stdout"
        },
        {
          "output_type": "display_data",
          "data": {
            "application/vnd.jupyter.widget-view+json": {
              "model_id": "658c40607e0347cca22887d470ddb859",
              "version_minor": 0,
              "version_major": 2
            },
            "text/plain": [
              "HBox(children=(FloatProgress(value=0.0, max=30.0), HTML(value='')))"
            ]
          },
          "metadata": {
            "tags": []
          }
        },
        {
          "output_type": "stream",
          "text": [
            "\n",
            "Epoch [8], train_loss: 0.1359, val_loss: 0.1457, val_acc: 0.9417\n"
          ],
          "name": "stdout"
        },
        {
          "output_type": "display_data",
          "data": {
            "application/vnd.jupyter.widget-view+json": {
              "model_id": "dc3496f3b9ba4c039d1282dfedd7eda2",
              "version_minor": 0,
              "version_major": 2
            },
            "text/plain": [
              "HBox(children=(FloatProgress(value=0.0, max=30.0), HTML(value='')))"
            ]
          },
          "metadata": {
            "tags": []
          }
        },
        {
          "output_type": "stream",
          "text": [
            "\n",
            "Epoch [9], train_loss: 0.1466, val_loss: 0.1406, val_acc: 0.9408\n",
            "CPU times: user 2min 20s, sys: 2min 32s, total: 4min 52s\n",
            "Wall time: 15min 27s\n"
          ],
          "name": "stdout"
        }
      ]
    },
    {
      "cell_type": "code",
      "metadata": {
        "id": "dOJsFOmSF4Td"
      },
      "source": [
        "#function to plot accuracy\r\n",
        "def plot_accuracies(history):\r\n",
        "    accuracies = [x['val_acc'] for x in history]\r\n",
        "    plt.plot(accuracies, '-x')\r\n",
        "    plt.xlabel('epoch')\r\n",
        "    plt.ylabel('accuracy')\r\n",
        "    plt.title('Accuracy vs. No. of epochs');\r\n",
        "\r\n",
        "#function to plot losses\r\n",
        "def plot_losses(history):\r\n",
        "    train_losses = [x.get('train_loss') for x in history]\r\n",
        "    val_losses = [x['val_loss'] for x in history]\r\n",
        "    plt.plot(train_losses, '-bx')\r\n",
        "    plt.plot(val_losses, '-rx')\r\n",
        "    plt.xlabel('epoch')\r\n",
        "    plt.ylabel('loss')\r\n",
        "    plt.legend(['Training', 'Validation'])\r\n",
        "    plt.title('Loss vs. No. of epochs');"
      ],
      "execution_count": 29,
      "outputs": []
    },
    {
      "cell_type": "code",
      "metadata": {
        "colab": {
          "base_uri": "https://localhost:8080/",
          "height": 295
        },
        "id": "3Hp8RQo7Jy2j",
        "outputId": "7fc04a12-6cf2-4e2c-b109-15cc2e8f20bc"
      },
      "source": [
        "plot_accuracies(history)"
      ],
      "execution_count": 30,
      "outputs": [
        {
          "output_type": "display_data",
          "data": {
            "image/png": "[encoded data removed]",
            "text/plain": [
              "<Figure size 432x288 with 1 Axes>"
            ]
          },
          "metadata": {
            "tags": [],
            "needs_background": "light"
          }
        }
      ]
    },
    {
      "cell_type": "code",
      "metadata": {
        "colab": {
          "base_uri": "https://localhost:8080/",
          "height": 295
        },
        "id": "2tbqBHjnJ9lT",
        "outputId": "af4d7e95-d2cc-4d66-ddbd-26bc1de7eb63"
      },
      "source": [
        "plot_losses(history)"
      ],
      "execution_count": 31,
      "outputs": [
        {
          "output_type": "display_data",
          "data": {
            "image/png": "[encoded data removed]",
            "text/plain": [
              "<Figure size 432x288 with 1 Axes>"
            ]
          },
          "metadata": {
            "tags": [],
            "needs_background": "light"
          }
        }
      ]
    },
    {
      "cell_type": "markdown",
      "metadata": {
        "id": "uLX2Ot_4LYQ3"
      },
      "source": [
        "#Testing Model"
      ]
    },
    {
      "cell_type": "code",
      "metadata": {
        "id": "NrrS5UhtKAD9"
      },
      "source": [
        "test_dir='/content/chest-xray-pneumonia/chest_xray/test'\r\n",
        "testset = ImageFolder(test_dir,\r\n",
        "                      transform=tt.Compose([tt.Resize((224,224)),\r\n",
        "                                            #tt.CenterCrop(224),\r\n",
        "                                            tt.RandomHorizontalFlip(),\r\n",
        "                                            tt.RandomRotation(10),\r\n",
        "                                            tt.RandomGrayscale(),\r\n",
        "                                            tt.ToTensor()\r\n",
        "                                           ]))"
      ],
      "execution_count": 32,
      "outputs": []
    },
    {
      "cell_type": "code",
      "metadata": {
        "colab": {
          "base_uri": "https://localhost:8080/"
        },
        "id": "g2GIlcarKYEc",
        "outputId": "6dfceb47-6bc6-4fdb-b608-cc6d786d5c56"
      },
      "source": [
        "# Evaluate test set\r\n",
        "test_loader = DeviceDataLoader(DataLoader(testset, batch_size*2), device)\r\n",
        "result = evaluate(model, test_loader)\r\n",
        "result"
      ],
      "execution_count": 33,
      "outputs": [
        {
          "output_type": "execute_result",
          "data": {
            "text/plain": [
              "{'val_acc': 0.7912946343421936, 'val_loss': 0.8396185636520386}"
            ]
          },
          "metadata": {
            "tags": []
          },
          "execution_count": 33
        }
      ]
    },
    {
      "cell_type": "markdown",
      "metadata": {
        "id": "4kn5gqM8LcES"
      },
      "source": [
        "We got an accuracy of approx 79% on test dataset"
      ]
    },
    {
      "cell_type": "markdown",
      "metadata": {
        "id": "HaTXJKpnMW-V"
      },
      "source": [
        "Model: Vgg16\r\n",
        "\r\n",
        "Image size:224x224\r\n",
        "\r\n",
        "Batch_size=128\r\n",
        "\r\n",
        "Epochs:10\r\n",
        "\r\n",
        "Training accuracy:94.17%(approx)\r\n",
        "\r\n",
        "Test accuracy:79.12%(approx)"
      ]
    }
  ]
}